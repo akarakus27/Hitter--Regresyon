{
 "cells": [
  {
   "cell_type": "code",
   "execution_count": 4,
   "metadata": {},
   "outputs": [
    {
     "name": "stdout",
     "output_type": "stream",
     "text": [
      "Requirement already satisfied: xgboost in c:\\users\\abdulkadir karakus\\anaconda3\\lib\\site-packages (1.1.1)\n",
      "Requirement already satisfied: scipy in c:\\users\\abdulkadir karakus\\anaconda3\\lib\\site-packages (from xgboost) (1.4.1)\n",
      "Requirement already satisfied: numpy in c:\\users\\abdulkadir karakus\\anaconda3\\lib\\site-packages (from xgboost) (1.18.1)\n",
      "Requirement already satisfied: lightgbm in c:\\users\\abdulkadir karakus\\anaconda3\\lib\\site-packages (2.3.1)\n",
      "Requirement already satisfied: scipy in c:\\users\\abdulkadir karakus\\anaconda3\\lib\\site-packages (from lightgbm) (1.4.1)\n",
      "Requirement already satisfied: numpy in c:\\users\\abdulkadir karakus\\anaconda3\\lib\\site-packages (from lightgbm) (1.18.1)\n",
      "Requirement already satisfied: scikit-learn in c:\\users\\abdulkadir karakus\\anaconda3\\lib\\site-packages (from lightgbm) (0.22.1)\n",
      "Requirement already satisfied: joblib>=0.11 in c:\\users\\abdulkadir karakus\\anaconda3\\lib\\site-packages (from scikit-learn->lightgbm) (0.14.1)\n",
      "Collecting catboost\n",
      "  Downloading catboost-0.23.2-cp37-none-win_amd64.whl (63.6 MB)\n",
      "Requirement already satisfied: numpy>=1.16.0 in c:\\users\\abdulkadir karakus\\anaconda3\\lib\\site-packages (from catboost) (1.18.1)\n",
      "Collecting graphviz\n",
      "  Downloading graphviz-0.14.1-py2.py3-none-any.whl (18 kB)\n",
      "Requirement already satisfied: matplotlib in c:\\users\\abdulkadir karakus\\anaconda3\\lib\\site-packages (from catboost) (3.1.3)\n",
      "Collecting plotly\n",
      "  Downloading plotly-4.9.0-py2.py3-none-any.whl (12.9 MB)\n",
      "Requirement already satisfied: scipy in c:\\users\\abdulkadir karakus\\anaconda3\\lib\\site-packages (from catboost) (1.4.1)\n",
      "Requirement already satisfied: six in c:\\users\\abdulkadir karakus\\anaconda3\\lib\\site-packages (from catboost) (1.14.0)\n",
      "Requirement already satisfied: pandas>=0.24.0 in c:\\users\\abdulkadir karakus\\anaconda3\\lib\\site-packages (from catboost) (1.0.1)\n",
      "Requirement already satisfied: cycler>=0.10 in c:\\users\\abdulkadir karakus\\anaconda3\\lib\\site-packages (from matplotlib->catboost) (0.10.0)\n",
      "Requirement already satisfied: kiwisolver>=1.0.1 in c:\\users\\abdulkadir karakus\\anaconda3\\lib\\site-packages (from matplotlib->catboost) (1.1.0)\n",
      "Requirement already satisfied: python-dateutil>=2.1 in c:\\users\\abdulkadir karakus\\anaconda3\\lib\\site-packages (from matplotlib->catboost) (2.8.1)\n",
      "Requirement already satisfied: pyparsing!=2.0.4,!=2.1.2,!=2.1.6,>=2.0.1 in c:\\users\\abdulkadir karakus\\anaconda3\\lib\\site-packages (from matplotlib->catboost) (2.4.6)\n",
      "Collecting retrying>=1.3.3\n",
      "  Downloading retrying-1.3.3.tar.gz (10 kB)\n",
      "Requirement already satisfied: pytz>=2017.2 in c:\\users\\abdulkadir karakus\\anaconda3\\lib\\site-packages (from pandas>=0.24.0->catboost) (2019.3)\n",
      "Requirement already satisfied: setuptools in c:\\users\\abdulkadir karakus\\anaconda3\\lib\\site-packages (from kiwisolver>=1.0.1->matplotlib->catboost) (45.2.0.post20200210)\n",
      "Building wheels for collected packages: retrying\n",
      "  Building wheel for retrying (setup.py): started\n",
      "  Building wheel for retrying (setup.py): finished with status 'done'\n",
      "  Created wheel for retrying: filename=retrying-1.3.3-py3-none-any.whl size=11435 sha256=d56da241a4aa87458aff1f260eee4f2a86816032fca26d91cf36e9ed7c22c3f5\n",
      "  Stored in directory: c:\\users\\abdulkadir karakus\\appdata\\local\\pip\\cache\\wheels\\f9\\8d\\8d\\f6af3f7f9eea3553bc2fe6d53e4b287dad18b06a861ac56ddf\n",
      "Successfully built retrying\n",
      "Installing collected packages: graphviz, retrying, plotly, catboost\n",
      "Successfully installed catboost-0.23.2 graphviz-0.14.1 plotly-4.9.0 retrying-1.3.3\n"
     ]
    }
   ],
   "source": [
    "import matplotlib.pyplot as plt\n",
    "import pandas as pd\n",
    "import numpy as np\n",
    "import matplotlib.pyplot as plt\n",
    "import seaborn as sns\n",
    "\n",
    "\n",
    "# Warnings\n",
    "\n",
    "from warnings import filterwarnings\n",
    "filterwarnings('ignore')\n",
    "\n",
    "pd.set_option('display.max_rows', None)\n",
    "pd.set_option('display.max_columns', None)\n",
    "\n",
    "# Data Preprocessing\n",
    "\n",
    "from sklearn.neighbors import LocalOutlierFactor \n",
    "from sklearn import preprocessing\n",
    "\n",
    "# Modeling\n",
    "\n",
    "from sklearn.model_selection import train_test_split\n",
    "from sklearn.metrics import mean_squared_error\n",
    "from sklearn.linear_model import LinearRegression\n",
    "from sklearn.linear_model import Ridge\n",
    "from sklearn.linear_model import Lasso\n",
    "from sklearn.linear_model import ElasticNet\n",
    "\n",
    "from sklearn.neighbors import KNeighborsRegressor\n",
    "from sklearn.svm import SVR\n",
    "from sklearn.neural_network import MLPRegressor\n",
    "from sklearn.tree import DecisionTreeRegressor\n",
    "from sklearn.ensemble import RandomForestRegressor\n",
    "from sklearn.ensemble import GradientBoostingRegressor\n",
    "!pip install xgboost\n",
    "import xgboost\n",
    "from xgboost import XGBRegressor\n",
    "!pip install lightgbm\n",
    "from lightgbm import LGBMRegressor\n",
    "!pip install catboost\n",
    "from catboost import CatBoostRegressor\n",
    "\n",
    "# Model Tuning\n",
    "\n",
    "from sklearn.model_selection import GridSearchCV\n",
    "from sklearn.model_selection import cross_val_score"
   ]
  },
  {
   "cell_type": "code",
   "execution_count": 7,
   "metadata": {},
   "outputs": [
    {
     "data": {
      "text/html": [
       "<div>\n",
       "<style scoped>\n",
       "    .dataframe tbody tr th:only-of-type {\n",
       "        vertical-align: middle;\n",
       "    }\n",
       "\n",
       "    .dataframe tbody tr th {\n",
       "        vertical-align: top;\n",
       "    }\n",
       "\n",
       "    .dataframe thead th {\n",
       "        text-align: right;\n",
       "    }\n",
       "</style>\n",
       "<table border=\"1\" class=\"dataframe\">\n",
       "  <thead>\n",
       "    <tr style=\"text-align: right;\">\n",
       "      <th></th>\n",
       "      <th>AtBat</th>\n",
       "      <th>Hits</th>\n",
       "      <th>HmRun</th>\n",
       "      <th>Runs</th>\n",
       "      <th>RBI</th>\n",
       "      <th>Walks</th>\n",
       "      <th>Years</th>\n",
       "      <th>CAtBat</th>\n",
       "      <th>CHits</th>\n",
       "      <th>CHmRun</th>\n",
       "      <th>CRuns</th>\n",
       "      <th>CRBI</th>\n",
       "      <th>CWalks</th>\n",
       "      <th>League</th>\n",
       "      <th>Division</th>\n",
       "      <th>PutOuts</th>\n",
       "      <th>Assists</th>\n",
       "      <th>Errors</th>\n",
       "      <th>Salary</th>\n",
       "      <th>NewLeague</th>\n",
       "    </tr>\n",
       "  </thead>\n",
       "  <tbody>\n",
       "    <tr>\n",
       "      <th>0</th>\n",
       "      <td>293</td>\n",
       "      <td>66</td>\n",
       "      <td>1</td>\n",
       "      <td>30</td>\n",
       "      <td>29</td>\n",
       "      <td>14</td>\n",
       "      <td>1</td>\n",
       "      <td>293</td>\n",
       "      <td>66</td>\n",
       "      <td>1</td>\n",
       "      <td>30</td>\n",
       "      <td>29</td>\n",
       "      <td>14</td>\n",
       "      <td>A</td>\n",
       "      <td>E</td>\n",
       "      <td>446</td>\n",
       "      <td>33</td>\n",
       "      <td>20</td>\n",
       "      <td>NaN</td>\n",
       "      <td>A</td>\n",
       "    </tr>\n",
       "    <tr>\n",
       "      <th>1</th>\n",
       "      <td>315</td>\n",
       "      <td>81</td>\n",
       "      <td>7</td>\n",
       "      <td>24</td>\n",
       "      <td>38</td>\n",
       "      <td>39</td>\n",
       "      <td>14</td>\n",
       "      <td>3449</td>\n",
       "      <td>835</td>\n",
       "      <td>69</td>\n",
       "      <td>321</td>\n",
       "      <td>414</td>\n",
       "      <td>375</td>\n",
       "      <td>N</td>\n",
       "      <td>W</td>\n",
       "      <td>632</td>\n",
       "      <td>43</td>\n",
       "      <td>10</td>\n",
       "      <td>475.0</td>\n",
       "      <td>N</td>\n",
       "    </tr>\n",
       "    <tr>\n",
       "      <th>2</th>\n",
       "      <td>479</td>\n",
       "      <td>130</td>\n",
       "      <td>18</td>\n",
       "      <td>66</td>\n",
       "      <td>72</td>\n",
       "      <td>76</td>\n",
       "      <td>3</td>\n",
       "      <td>1624</td>\n",
       "      <td>457</td>\n",
       "      <td>63</td>\n",
       "      <td>224</td>\n",
       "      <td>266</td>\n",
       "      <td>263</td>\n",
       "      <td>A</td>\n",
       "      <td>W</td>\n",
       "      <td>880</td>\n",
       "      <td>82</td>\n",
       "      <td>14</td>\n",
       "      <td>480.0</td>\n",
       "      <td>A</td>\n",
       "    </tr>\n",
       "    <tr>\n",
       "      <th>3</th>\n",
       "      <td>496</td>\n",
       "      <td>141</td>\n",
       "      <td>20</td>\n",
       "      <td>65</td>\n",
       "      <td>78</td>\n",
       "      <td>37</td>\n",
       "      <td>11</td>\n",
       "      <td>5628</td>\n",
       "      <td>1575</td>\n",
       "      <td>225</td>\n",
       "      <td>828</td>\n",
       "      <td>838</td>\n",
       "      <td>354</td>\n",
       "      <td>N</td>\n",
       "      <td>E</td>\n",
       "      <td>200</td>\n",
       "      <td>11</td>\n",
       "      <td>3</td>\n",
       "      <td>500.0</td>\n",
       "      <td>N</td>\n",
       "    </tr>\n",
       "    <tr>\n",
       "      <th>4</th>\n",
       "      <td>321</td>\n",
       "      <td>87</td>\n",
       "      <td>10</td>\n",
       "      <td>39</td>\n",
       "      <td>42</td>\n",
       "      <td>30</td>\n",
       "      <td>2</td>\n",
       "      <td>396</td>\n",
       "      <td>101</td>\n",
       "      <td>12</td>\n",
       "      <td>48</td>\n",
       "      <td>46</td>\n",
       "      <td>33</td>\n",
       "      <td>N</td>\n",
       "      <td>E</td>\n",
       "      <td>805</td>\n",
       "      <td>40</td>\n",
       "      <td>4</td>\n",
       "      <td>91.5</td>\n",
       "      <td>N</td>\n",
       "    </tr>\n",
       "  </tbody>\n",
       "</table>\n",
       "</div>"
      ],
      "text/plain": [
       "   AtBat  Hits  HmRun  Runs  RBI  Walks  Years  CAtBat  CHits  CHmRun  CRuns  \\\n",
       "0    293    66      1    30   29     14      1     293     66       1     30   \n",
       "1    315    81      7    24   38     39     14    3449    835      69    321   \n",
       "2    479   130     18    66   72     76      3    1624    457      63    224   \n",
       "3    496   141     20    65   78     37     11    5628   1575     225    828   \n",
       "4    321    87     10    39   42     30      2     396    101      12     48   \n",
       "\n",
       "   CRBI  CWalks League Division  PutOuts  Assists  Errors  Salary NewLeague  \n",
       "0    29      14      A        E      446       33      20     NaN         A  \n",
       "1   414     375      N        W      632       43      10   475.0         N  \n",
       "2   266     263      A        W      880       82      14   480.0         A  \n",
       "3   838     354      N        E      200       11       3   500.0         N  \n",
       "4    46      33      N        E      805       40       4    91.5         N  "
      ]
     },
     "execution_count": 7,
     "metadata": {},
     "output_type": "execute_result"
    }
   ],
   "source": [
    "hitters=pd.read_csv(\"Hitters.csv\")\n",
    "hitters.head()"
   ]
  },
  {
   "cell_type": "code",
   "execution_count": 6,
   "metadata": {},
   "outputs": [
    {
     "name": "stdout",
     "output_type": "stream",
     "text": [
      "(322, 20)\n",
      "<class 'pandas.core.frame.DataFrame'>\n",
      "RangeIndex: 322 entries, 0 to 321\n",
      "Data columns (total 20 columns):\n",
      " #   Column     Non-Null Count  Dtype  \n",
      "---  ------     --------------  -----  \n",
      " 0   AtBat      322 non-null    int64  \n",
      " 1   Hits       322 non-null    int64  \n",
      " 2   HmRun      322 non-null    int64  \n",
      " 3   Runs       322 non-null    int64  \n",
      " 4   RBI        322 non-null    int64  \n",
      " 5   Walks      322 non-null    int64  \n",
      " 6   Years      322 non-null    int64  \n",
      " 7   CAtBat     322 non-null    int64  \n",
      " 8   CHits      322 non-null    int64  \n",
      " 9   CHmRun     322 non-null    int64  \n",
      " 10  CRuns      322 non-null    int64  \n",
      " 11  CRBI       322 non-null    int64  \n",
      " 12  CWalks     322 non-null    int64  \n",
      " 13  League     322 non-null    object \n",
      " 14  Division   322 non-null    object \n",
      " 15  PutOuts    322 non-null    int64  \n",
      " 16  Assists    322 non-null    int64  \n",
      " 17  Errors     322 non-null    int64  \n",
      " 18  Salary     263 non-null    float64\n",
      " 19  NewLeague  322 non-null    object \n",
      "dtypes: float64(1), int64(16), object(3)\n",
      "memory usage: 50.4+ KB\n"
     ]
    }
   ],
   "source": [
    "df=hitters.copy()\n",
    "print(df.shape)\n",
    "df.info()"
   ]
  },
  {
   "cell_type": "code",
   "execution_count": 9,
   "metadata": {},
   "outputs": [
    {
     "data": {
      "text/plain": [
       "59"
      ]
     },
     "execution_count": 9,
     "metadata": {},
     "output_type": "execute_result"
    }
   ],
   "source": [
    "df.isnull().sum().sum()"
   ]
  },
  {
   "cell_type": "code",
   "execution_count": 10,
   "metadata": {},
   "outputs": [
    {
     "data": {
      "text/plain": [
       "(322, 20)"
      ]
     },
     "execution_count": 10,
     "metadata": {},
     "output_type": "execute_result"
    }
   ],
   "source": [
    "df.shape"
   ]
  },
  {
   "cell_type": "code",
   "execution_count": 11,
   "metadata": {},
   "outputs": [
    {
     "data": {
      "text/plain": [
       "(263, 20)"
      ]
     },
     "execution_count": 11,
     "metadata": {},
     "output_type": "execute_result"
    }
   ],
   "source": [
    "df1=df.dropna()\n",
    "df1.shape"
   ]
  },
  {
   "cell_type": "code",
   "execution_count": 12,
   "metadata": {},
   "outputs": [
    {
     "data": {
      "text/html": [
       "<div>\n",
       "<style scoped>\n",
       "    .dataframe tbody tr th:only-of-type {\n",
       "        vertical-align: middle;\n",
       "    }\n",
       "\n",
       "    .dataframe tbody tr th {\n",
       "        vertical-align: top;\n",
       "    }\n",
       "\n",
       "    .dataframe thead th {\n",
       "        text-align: right;\n",
       "    }\n",
       "</style>\n",
       "<table border=\"1\" class=\"dataframe\">\n",
       "  <thead>\n",
       "    <tr style=\"text-align: right;\">\n",
       "      <th></th>\n",
       "      <th>count</th>\n",
       "      <th>mean</th>\n",
       "      <th>std</th>\n",
       "      <th>min</th>\n",
       "      <th>1%</th>\n",
       "      <th>5%</th>\n",
       "      <th>10%</th>\n",
       "      <th>25%</th>\n",
       "      <th>50%</th>\n",
       "      <th>75%</th>\n",
       "      <th>80%</th>\n",
       "      <th>90%</th>\n",
       "      <th>95%</th>\n",
       "      <th>99%</th>\n",
       "      <th>max</th>\n",
       "    </tr>\n",
       "  </thead>\n",
       "  <tbody>\n",
       "    <tr>\n",
       "      <th>AtBat</th>\n",
       "      <td>322.0</td>\n",
       "      <td>380.928571</td>\n",
       "      <td>153.404981</td>\n",
       "      <td>16.0</td>\n",
       "      <td>20.42</td>\n",
       "      <td>161.00</td>\n",
       "      <td>194.1</td>\n",
       "      <td>255.25</td>\n",
       "      <td>379.5</td>\n",
       "      <td>512.00</td>\n",
       "      <td>535.6</td>\n",
       "      <td>584.9000</td>\n",
       "      <td>609.90</td>\n",
       "      <td>658.59000</td>\n",
       "      <td>687.0</td>\n",
       "    </tr>\n",
       "    <tr>\n",
       "      <th>Hits</th>\n",
       "      <td>322.0</td>\n",
       "      <td>101.024845</td>\n",
       "      <td>46.454741</td>\n",
       "      <td>1.0</td>\n",
       "      <td>4.42</td>\n",
       "      <td>39.00</td>\n",
       "      <td>45.1</td>\n",
       "      <td>64.00</td>\n",
       "      <td>96.0</td>\n",
       "      <td>137.00</td>\n",
       "      <td>144.0</td>\n",
       "      <td>163.0000</td>\n",
       "      <td>174.00</td>\n",
       "      <td>210.79000</td>\n",
       "      <td>238.0</td>\n",
       "    </tr>\n",
       "    <tr>\n",
       "      <th>HmRun</th>\n",
       "      <td>322.0</td>\n",
       "      <td>10.770186</td>\n",
       "      <td>8.709037</td>\n",
       "      <td>0.0</td>\n",
       "      <td>0.00</td>\n",
       "      <td>0.00</td>\n",
       "      <td>1.0</td>\n",
       "      <td>4.00</td>\n",
       "      <td>8.0</td>\n",
       "      <td>16.00</td>\n",
       "      <td>18.0</td>\n",
       "      <td>24.0000</td>\n",
       "      <td>28.95</td>\n",
       "      <td>33.00000</td>\n",
       "      <td>40.0</td>\n",
       "    </tr>\n",
       "    <tr>\n",
       "      <th>Runs</th>\n",
       "      <td>322.0</td>\n",
       "      <td>50.909938</td>\n",
       "      <td>26.024095</td>\n",
       "      <td>0.0</td>\n",
       "      <td>1.21</td>\n",
       "      <td>17.00</td>\n",
       "      <td>20.1</td>\n",
       "      <td>30.25</td>\n",
       "      <td>48.0</td>\n",
       "      <td>69.00</td>\n",
       "      <td>75.8</td>\n",
       "      <td>89.0000</td>\n",
       "      <td>94.00</td>\n",
       "      <td>107.79000</td>\n",
       "      <td>130.0</td>\n",
       "    </tr>\n",
       "    <tr>\n",
       "      <th>RBI</th>\n",
       "      <td>322.0</td>\n",
       "      <td>48.027950</td>\n",
       "      <td>26.166895</td>\n",
       "      <td>0.0</td>\n",
       "      <td>2.00</td>\n",
       "      <td>14.00</td>\n",
       "      <td>19.0</td>\n",
       "      <td>28.00</td>\n",
       "      <td>44.0</td>\n",
       "      <td>64.75</td>\n",
       "      <td>73.0</td>\n",
       "      <td>86.0000</td>\n",
       "      <td>96.00</td>\n",
       "      <td>112.37000</td>\n",
       "      <td>121.0</td>\n",
       "    </tr>\n",
       "    <tr>\n",
       "      <th>Walks</th>\n",
       "      <td>322.0</td>\n",
       "      <td>38.742236</td>\n",
       "      <td>21.639327</td>\n",
       "      <td>0.0</td>\n",
       "      <td>1.00</td>\n",
       "      <td>11.05</td>\n",
       "      <td>15.0</td>\n",
       "      <td>22.00</td>\n",
       "      <td>35.0</td>\n",
       "      <td>53.00</td>\n",
       "      <td>59.0</td>\n",
       "      <td>69.9000</td>\n",
       "      <td>78.00</td>\n",
       "      <td>93.58000</td>\n",
       "      <td>105.0</td>\n",
       "    </tr>\n",
       "    <tr>\n",
       "      <th>Years</th>\n",
       "      <td>322.0</td>\n",
       "      <td>7.444099</td>\n",
       "      <td>4.926087</td>\n",
       "      <td>1.0</td>\n",
       "      <td>1.00</td>\n",
       "      <td>1.00</td>\n",
       "      <td>2.0</td>\n",
       "      <td>4.00</td>\n",
       "      <td>6.0</td>\n",
       "      <td>11.00</td>\n",
       "      <td>12.0</td>\n",
       "      <td>15.0000</td>\n",
       "      <td>17.00</td>\n",
       "      <td>19.79000</td>\n",
       "      <td>24.0</td>\n",
       "    </tr>\n",
       "    <tr>\n",
       "      <th>CAtBat</th>\n",
       "      <td>322.0</td>\n",
       "      <td>2648.683230</td>\n",
       "      <td>2324.205870</td>\n",
       "      <td>19.0</td>\n",
       "      <td>41.00</td>\n",
       "      <td>216.50</td>\n",
       "      <td>342.2</td>\n",
       "      <td>816.75</td>\n",
       "      <td>1928.0</td>\n",
       "      <td>3924.25</td>\n",
       "      <td>4483.0</td>\n",
       "      <td>6123.4000</td>\n",
       "      <td>7125.60</td>\n",
       "      <td>8749.97000</td>\n",
       "      <td>14053.0</td>\n",
       "    </tr>\n",
       "    <tr>\n",
       "      <th>CHits</th>\n",
       "      <td>322.0</td>\n",
       "      <td>717.571429</td>\n",
       "      <td>654.472627</td>\n",
       "      <td>4.0</td>\n",
       "      <td>9.84</td>\n",
       "      <td>54.00</td>\n",
       "      <td>86.0</td>\n",
       "      <td>209.00</td>\n",
       "      <td>508.0</td>\n",
       "      <td>1059.25</td>\n",
       "      <td>1229.2</td>\n",
       "      <td>1659.6000</td>\n",
       "      <td>2017.15</td>\n",
       "      <td>2500.34000</td>\n",
       "      <td>4256.0</td>\n",
       "    </tr>\n",
       "    <tr>\n",
       "      <th>CHmRun</th>\n",
       "      <td>322.0</td>\n",
       "      <td>69.490683</td>\n",
       "      <td>86.266061</td>\n",
       "      <td>0.0</td>\n",
       "      <td>0.00</td>\n",
       "      <td>2.00</td>\n",
       "      <td>4.0</td>\n",
       "      <td>14.00</td>\n",
       "      <td>37.5</td>\n",
       "      <td>90.00</td>\n",
       "      <td>103.8</td>\n",
       "      <td>194.9000</td>\n",
       "      <td>265.65</td>\n",
       "      <td>373.12000</td>\n",
       "      <td>548.0</td>\n",
       "    </tr>\n",
       "    <tr>\n",
       "      <th>CRuns</th>\n",
       "      <td>322.0</td>\n",
       "      <td>358.795031</td>\n",
       "      <td>334.105886</td>\n",
       "      <td>1.0</td>\n",
       "      <td>3.63</td>\n",
       "      <td>27.00</td>\n",
       "      <td>38.1</td>\n",
       "      <td>100.25</td>\n",
       "      <td>247.0</td>\n",
       "      <td>526.25</td>\n",
       "      <td>627.2</td>\n",
       "      <td>895.7000</td>\n",
       "      <td>1032.30</td>\n",
       "      <td>1174.37000</td>\n",
       "      <td>2165.0</td>\n",
       "    </tr>\n",
       "    <tr>\n",
       "      <th>CRBI</th>\n",
       "      <td>322.0</td>\n",
       "      <td>330.118012</td>\n",
       "      <td>333.219617</td>\n",
       "      <td>0.0</td>\n",
       "      <td>4.63</td>\n",
       "      <td>22.05</td>\n",
       "      <td>34.1</td>\n",
       "      <td>88.75</td>\n",
       "      <td>220.5</td>\n",
       "      <td>426.25</td>\n",
       "      <td>496.2</td>\n",
       "      <td>861.6000</td>\n",
       "      <td>1071.75</td>\n",
       "      <td>1310.85000</td>\n",
       "      <td>1659.0</td>\n",
       "    </tr>\n",
       "    <tr>\n",
       "      <th>CWalks</th>\n",
       "      <td>322.0</td>\n",
       "      <td>260.239130</td>\n",
       "      <td>267.058085</td>\n",
       "      <td>0.0</td>\n",
       "      <td>4.00</td>\n",
       "      <td>15.05</td>\n",
       "      <td>30.1</td>\n",
       "      <td>67.25</td>\n",
       "      <td>170.5</td>\n",
       "      <td>339.25</td>\n",
       "      <td>421.0</td>\n",
       "      <td>643.9000</td>\n",
       "      <td>817.60</td>\n",
       "      <td>1139.14000</td>\n",
       "      <td>1566.0</td>\n",
       "    </tr>\n",
       "    <tr>\n",
       "      <th>PutOuts</th>\n",
       "      <td>322.0</td>\n",
       "      <td>288.937888</td>\n",
       "      <td>280.704614</td>\n",
       "      <td>0.0</td>\n",
       "      <td>0.00</td>\n",
       "      <td>33.20</td>\n",
       "      <td>62.2</td>\n",
       "      <td>109.25</td>\n",
       "      <td>212.0</td>\n",
       "      <td>325.00</td>\n",
       "      <td>365.8</td>\n",
       "      <td>685.6000</td>\n",
       "      <td>910.65</td>\n",
       "      <td>1301.19000</td>\n",
       "      <td>1378.0</td>\n",
       "    </tr>\n",
       "    <tr>\n",
       "      <th>Assists</th>\n",
       "      <td>322.0</td>\n",
       "      <td>106.913043</td>\n",
       "      <td>136.854876</td>\n",
       "      <td>0.0</td>\n",
       "      <td>0.00</td>\n",
       "      <td>0.00</td>\n",
       "      <td>2.0</td>\n",
       "      <td>7.00</td>\n",
       "      <td>39.5</td>\n",
       "      <td>166.00</td>\n",
       "      <td>210.8</td>\n",
       "      <td>353.3000</td>\n",
       "      <td>431.45</td>\n",
       "      <td>478.16000</td>\n",
       "      <td>492.0</td>\n",
       "    </tr>\n",
       "    <tr>\n",
       "      <th>Errors</th>\n",
       "      <td>322.0</td>\n",
       "      <td>8.040373</td>\n",
       "      <td>6.368359</td>\n",
       "      <td>0.0</td>\n",
       "      <td>0.00</td>\n",
       "      <td>0.00</td>\n",
       "      <td>1.0</td>\n",
       "      <td>3.00</td>\n",
       "      <td>6.0</td>\n",
       "      <td>11.00</td>\n",
       "      <td>13.0</td>\n",
       "      <td>17.0000</td>\n",
       "      <td>20.00</td>\n",
       "      <td>25.79000</td>\n",
       "      <td>32.0</td>\n",
       "    </tr>\n",
       "    <tr>\n",
       "      <th>Salary</th>\n",
       "      <td>263.0</td>\n",
       "      <td>535.925882</td>\n",
       "      <td>451.118681</td>\n",
       "      <td>67.5</td>\n",
       "      <td>70.00</td>\n",
       "      <td>86.60</td>\n",
       "      <td>100.0</td>\n",
       "      <td>190.00</td>\n",
       "      <td>425.0</td>\n",
       "      <td>750.00</td>\n",
       "      <td>809.0</td>\n",
       "      <td>1048.6666</td>\n",
       "      <td>1346.00</td>\n",
       "      <td>2032.88654</td>\n",
       "      <td>2460.0</td>\n",
       "    </tr>\n",
       "  </tbody>\n",
       "</table>\n",
       "</div>"
      ],
      "text/plain": [
       "         count         mean          std   min     1%      5%    10%     25%  \\\n",
       "AtBat    322.0   380.928571   153.404981  16.0  20.42  161.00  194.1  255.25   \n",
       "Hits     322.0   101.024845    46.454741   1.0   4.42   39.00   45.1   64.00   \n",
       "HmRun    322.0    10.770186     8.709037   0.0   0.00    0.00    1.0    4.00   \n",
       "Runs     322.0    50.909938    26.024095   0.0   1.21   17.00   20.1   30.25   \n",
       "RBI      322.0    48.027950    26.166895   0.0   2.00   14.00   19.0   28.00   \n",
       "Walks    322.0    38.742236    21.639327   0.0   1.00   11.05   15.0   22.00   \n",
       "Years    322.0     7.444099     4.926087   1.0   1.00    1.00    2.0    4.00   \n",
       "CAtBat   322.0  2648.683230  2324.205870  19.0  41.00  216.50  342.2  816.75   \n",
       "CHits    322.0   717.571429   654.472627   4.0   9.84   54.00   86.0  209.00   \n",
       "CHmRun   322.0    69.490683    86.266061   0.0   0.00    2.00    4.0   14.00   \n",
       "CRuns    322.0   358.795031   334.105886   1.0   3.63   27.00   38.1  100.25   \n",
       "CRBI     322.0   330.118012   333.219617   0.0   4.63   22.05   34.1   88.75   \n",
       "CWalks   322.0   260.239130   267.058085   0.0   4.00   15.05   30.1   67.25   \n",
       "PutOuts  322.0   288.937888   280.704614   0.0   0.00   33.20   62.2  109.25   \n",
       "Assists  322.0   106.913043   136.854876   0.0   0.00    0.00    2.0    7.00   \n",
       "Errors   322.0     8.040373     6.368359   0.0   0.00    0.00    1.0    3.00   \n",
       "Salary   263.0   535.925882   451.118681  67.5  70.00   86.60  100.0  190.00   \n",
       "\n",
       "            50%      75%     80%        90%      95%         99%      max  \n",
       "AtBat     379.5   512.00   535.6   584.9000   609.90   658.59000    687.0  \n",
       "Hits       96.0   137.00   144.0   163.0000   174.00   210.79000    238.0  \n",
       "HmRun       8.0    16.00    18.0    24.0000    28.95    33.00000     40.0  \n",
       "Runs       48.0    69.00    75.8    89.0000    94.00   107.79000    130.0  \n",
       "RBI        44.0    64.75    73.0    86.0000    96.00   112.37000    121.0  \n",
       "Walks      35.0    53.00    59.0    69.9000    78.00    93.58000    105.0  \n",
       "Years       6.0    11.00    12.0    15.0000    17.00    19.79000     24.0  \n",
       "CAtBat   1928.0  3924.25  4483.0  6123.4000  7125.60  8749.97000  14053.0  \n",
       "CHits     508.0  1059.25  1229.2  1659.6000  2017.15  2500.34000   4256.0  \n",
       "CHmRun     37.5    90.00   103.8   194.9000   265.65   373.12000    548.0  \n",
       "CRuns     247.0   526.25   627.2   895.7000  1032.30  1174.37000   2165.0  \n",
       "CRBI      220.5   426.25   496.2   861.6000  1071.75  1310.85000   1659.0  \n",
       "CWalks    170.5   339.25   421.0   643.9000   817.60  1139.14000   1566.0  \n",
       "PutOuts   212.0   325.00   365.8   685.6000   910.65  1301.19000   1378.0  \n",
       "Assists    39.5   166.00   210.8   353.3000   431.45   478.16000    492.0  \n",
       "Errors      6.0    11.00    13.0    17.0000    20.00    25.79000     32.0  \n",
       "Salary    425.0   750.00   809.0  1048.6666  1346.00  2032.88654   2460.0  "
      ]
     },
     "execution_count": 12,
     "metadata": {},
     "output_type": "execute_result"
    }
   ],
   "source": [
    "df.describe([0.01,0.05,0.10,0.25,0.50,0.75,0.80,0.90,0.95,0.99]).T "
   ]
  },
  {
   "cell_type": "code",
   "execution_count": 13,
   "metadata": {},
   "outputs": [
    {
     "data": {
      "text/html": [
       "<div>\n",
       "<style scoped>\n",
       "    .dataframe tbody tr th:only-of-type {\n",
       "        vertical-align: middle;\n",
       "    }\n",
       "\n",
       "    .dataframe tbody tr th {\n",
       "        vertical-align: top;\n",
       "    }\n",
       "\n",
       "    .dataframe thead th {\n",
       "        text-align: right;\n",
       "    }\n",
       "</style>\n",
       "<table border=\"1\" class=\"dataframe\">\n",
       "  <thead>\n",
       "    <tr style=\"text-align: right;\">\n",
       "      <th></th>\n",
       "      <th>count</th>\n",
       "      <th>mean</th>\n",
       "      <th>std</th>\n",
       "      <th>min</th>\n",
       "      <th>1%</th>\n",
       "      <th>5%</th>\n",
       "      <th>10%</th>\n",
       "      <th>25%</th>\n",
       "      <th>50%</th>\n",
       "      <th>75%</th>\n",
       "      <th>80%</th>\n",
       "      <th>90%</th>\n",
       "      <th>95%</th>\n",
       "      <th>99%</th>\n",
       "      <th>max</th>\n",
       "    </tr>\n",
       "  </thead>\n",
       "  <tbody>\n",
       "    <tr>\n",
       "      <th>AtBat</th>\n",
       "      <td>263.0</td>\n",
       "      <td>403.642586</td>\n",
       "      <td>147.307209</td>\n",
       "      <td>19.0</td>\n",
       "      <td>126.62</td>\n",
       "      <td>181.3</td>\n",
       "      <td>205.6</td>\n",
       "      <td>282.5</td>\n",
       "      <td>413.0</td>\n",
       "      <td>526.0</td>\n",
       "      <td>554.6</td>\n",
       "      <td>591.0000</td>\n",
       "      <td>617.8</td>\n",
       "      <td>668.32000</td>\n",
       "      <td>687.0</td>\n",
       "    </tr>\n",
       "    <tr>\n",
       "      <th>Hits</th>\n",
       "      <td>263.0</td>\n",
       "      <td>107.828897</td>\n",
       "      <td>45.125326</td>\n",
       "      <td>1.0</td>\n",
       "      <td>30.10</td>\n",
       "      <td>42.1</td>\n",
       "      <td>52.0</td>\n",
       "      <td>71.5</td>\n",
       "      <td>103.0</td>\n",
       "      <td>141.5</td>\n",
       "      <td>148.6</td>\n",
       "      <td>168.0000</td>\n",
       "      <td>177.9</td>\n",
       "      <td>211.76000</td>\n",
       "      <td>238.0</td>\n",
       "    </tr>\n",
       "    <tr>\n",
       "      <th>HmRun</th>\n",
       "      <td>263.0</td>\n",
       "      <td>11.619772</td>\n",
       "      <td>8.757108</td>\n",
       "      <td>0.0</td>\n",
       "      <td>0.00</td>\n",
       "      <td>1.0</td>\n",
       "      <td>2.0</td>\n",
       "      <td>5.0</td>\n",
       "      <td>9.0</td>\n",
       "      <td>18.0</td>\n",
       "      <td>20.0</td>\n",
       "      <td>25.0000</td>\n",
       "      <td>29.0</td>\n",
       "      <td>33.00000</td>\n",
       "      <td>40.0</td>\n",
       "    </tr>\n",
       "    <tr>\n",
       "      <th>Runs</th>\n",
       "      <td>263.0</td>\n",
       "      <td>54.745247</td>\n",
       "      <td>25.539816</td>\n",
       "      <td>0.0</td>\n",
       "      <td>11.10</td>\n",
       "      <td>19.1</td>\n",
       "      <td>24.0</td>\n",
       "      <td>33.5</td>\n",
       "      <td>52.0</td>\n",
       "      <td>73.0</td>\n",
       "      <td>77.6</td>\n",
       "      <td>90.0000</td>\n",
       "      <td>96.8</td>\n",
       "      <td>111.42000</td>\n",
       "      <td>130.0</td>\n",
       "    </tr>\n",
       "    <tr>\n",
       "      <th>RBI</th>\n",
       "      <td>263.0</td>\n",
       "      <td>51.486692</td>\n",
       "      <td>25.882714</td>\n",
       "      <td>0.0</td>\n",
       "      <td>8.00</td>\n",
       "      <td>18.0</td>\n",
       "      <td>23.0</td>\n",
       "      <td>30.0</td>\n",
       "      <td>47.0</td>\n",
       "      <td>71.0</td>\n",
       "      <td>75.6</td>\n",
       "      <td>88.0000</td>\n",
       "      <td>99.8</td>\n",
       "      <td>114.14000</td>\n",
       "      <td>121.0</td>\n",
       "    </tr>\n",
       "    <tr>\n",
       "      <th>Walks</th>\n",
       "      <td>263.0</td>\n",
       "      <td>41.114068</td>\n",
       "      <td>21.718056</td>\n",
       "      <td>0.0</td>\n",
       "      <td>4.24</td>\n",
       "      <td>12.0</td>\n",
       "      <td>16.0</td>\n",
       "      <td>23.0</td>\n",
       "      <td>37.0</td>\n",
       "      <td>57.0</td>\n",
       "      <td>62.0</td>\n",
       "      <td>71.8000</td>\n",
       "      <td>78.9</td>\n",
       "      <td>94.00000</td>\n",
       "      <td>105.0</td>\n",
       "    </tr>\n",
       "    <tr>\n",
       "      <th>Years</th>\n",
       "      <td>263.0</td>\n",
       "      <td>7.311787</td>\n",
       "      <td>4.793616</td>\n",
       "      <td>1.0</td>\n",
       "      <td>1.00</td>\n",
       "      <td>1.0</td>\n",
       "      <td>2.0</td>\n",
       "      <td>4.0</td>\n",
       "      <td>6.0</td>\n",
       "      <td>10.0</td>\n",
       "      <td>12.0</td>\n",
       "      <td>14.0000</td>\n",
       "      <td>16.9</td>\n",
       "      <td>19.38000</td>\n",
       "      <td>24.0</td>\n",
       "    </tr>\n",
       "    <tr>\n",
       "      <th>CAtBat</th>\n",
       "      <td>263.0</td>\n",
       "      <td>2657.543726</td>\n",
       "      <td>2286.582929</td>\n",
       "      <td>19.0</td>\n",
       "      <td>190.30</td>\n",
       "      <td>279.9</td>\n",
       "      <td>413.6</td>\n",
       "      <td>842.5</td>\n",
       "      <td>1931.0</td>\n",
       "      <td>3890.5</td>\n",
       "      <td>4406.8</td>\n",
       "      <td>6098.0000</td>\n",
       "      <td>7120.1</td>\n",
       "      <td>8732.34000</td>\n",
       "      <td>14053.0</td>\n",
       "    </tr>\n",
       "    <tr>\n",
       "      <th>CHits</th>\n",
       "      <td>263.0</td>\n",
       "      <td>722.186312</td>\n",
       "      <td>648.199644</td>\n",
       "      <td>4.0</td>\n",
       "      <td>43.24</td>\n",
       "      <td>68.0</td>\n",
       "      <td>102.2</td>\n",
       "      <td>212.0</td>\n",
       "      <td>516.0</td>\n",
       "      <td>1054.0</td>\n",
       "      <td>1209.0</td>\n",
       "      <td>1658.0000</td>\n",
       "      <td>2023.5</td>\n",
       "      <td>2481.48000</td>\n",
       "      <td>4256.0</td>\n",
       "    </tr>\n",
       "    <tr>\n",
       "      <th>CHmRun</th>\n",
       "      <td>263.0</td>\n",
       "      <td>69.239544</td>\n",
       "      <td>82.197581</td>\n",
       "      <td>0.0</td>\n",
       "      <td>0.62</td>\n",
       "      <td>2.0</td>\n",
       "      <td>5.0</td>\n",
       "      <td>15.0</td>\n",
       "      <td>40.0</td>\n",
       "      <td>92.5</td>\n",
       "      <td>105.8</td>\n",
       "      <td>174.8000</td>\n",
       "      <td>258.4</td>\n",
       "      <td>348.52000</td>\n",
       "      <td>548.0</td>\n",
       "    </tr>\n",
       "    <tr>\n",
       "      <th>CRuns</th>\n",
       "      <td>263.0</td>\n",
       "      <td>361.220532</td>\n",
       "      <td>331.198571</td>\n",
       "      <td>2.0</td>\n",
       "      <td>17.24</td>\n",
       "      <td>32.0</td>\n",
       "      <td>51.8</td>\n",
       "      <td>105.5</td>\n",
       "      <td>250.0</td>\n",
       "      <td>497.5</td>\n",
       "      <td>602.2</td>\n",
       "      <td>879.6000</td>\n",
       "      <td>1040.6</td>\n",
       "      <td>1173.14000</td>\n",
       "      <td>2165.0</td>\n",
       "    </tr>\n",
       "    <tr>\n",
       "      <th>CRBI</th>\n",
       "      <td>263.0</td>\n",
       "      <td>330.418251</td>\n",
       "      <td>323.367668</td>\n",
       "      <td>3.0</td>\n",
       "      <td>9.62</td>\n",
       "      <td>29.2</td>\n",
       "      <td>38.2</td>\n",
       "      <td>95.0</td>\n",
       "      <td>230.0</td>\n",
       "      <td>424.5</td>\n",
       "      <td>487.8</td>\n",
       "      <td>835.8000</td>\n",
       "      <td>1065.3</td>\n",
       "      <td>1304.70000</td>\n",
       "      <td>1659.0</td>\n",
       "    </tr>\n",
       "    <tr>\n",
       "      <th>CWalks</th>\n",
       "      <td>263.0</td>\n",
       "      <td>260.266160</td>\n",
       "      <td>264.055868</td>\n",
       "      <td>1.0</td>\n",
       "      <td>9.86</td>\n",
       "      <td>22.2</td>\n",
       "      <td>33.2</td>\n",
       "      <td>71.0</td>\n",
       "      <td>174.0</td>\n",
       "      <td>328.5</td>\n",
       "      <td>404.8</td>\n",
       "      <td>641.4000</td>\n",
       "      <td>816.2</td>\n",
       "      <td>1165.30000</td>\n",
       "      <td>1566.0</td>\n",
       "    </tr>\n",
       "    <tr>\n",
       "      <th>PutOuts</th>\n",
       "      <td>263.0</td>\n",
       "      <td>290.711027</td>\n",
       "      <td>279.934575</td>\n",
       "      <td>0.0</td>\n",
       "      <td>0.00</td>\n",
       "      <td>37.4</td>\n",
       "      <td>62.6</td>\n",
       "      <td>113.5</td>\n",
       "      <td>224.0</td>\n",
       "      <td>322.5</td>\n",
       "      <td>358.6</td>\n",
       "      <td>679.6000</td>\n",
       "      <td>936.3</td>\n",
       "      <td>1276.18000</td>\n",
       "      <td>1377.0</td>\n",
       "    </tr>\n",
       "    <tr>\n",
       "      <th>Assists</th>\n",
       "      <td>263.0</td>\n",
       "      <td>118.760456</td>\n",
       "      <td>145.080577</td>\n",
       "      <td>0.0</td>\n",
       "      <td>0.00</td>\n",
       "      <td>0.1</td>\n",
       "      <td>3.0</td>\n",
       "      <td>8.0</td>\n",
       "      <td>45.0</td>\n",
       "      <td>192.0</td>\n",
       "      <td>252.6</td>\n",
       "      <td>373.6000</td>\n",
       "      <td>441.8</td>\n",
       "      <td>480.14000</td>\n",
       "      <td>492.0</td>\n",
       "    </tr>\n",
       "    <tr>\n",
       "      <th>Errors</th>\n",
       "      <td>263.0</td>\n",
       "      <td>8.593156</td>\n",
       "      <td>6.606574</td>\n",
       "      <td>0.0</td>\n",
       "      <td>0.00</td>\n",
       "      <td>0.1</td>\n",
       "      <td>2.0</td>\n",
       "      <td>3.0</td>\n",
       "      <td>7.0</td>\n",
       "      <td>13.0</td>\n",
       "      <td>15.0</td>\n",
       "      <td>18.0000</td>\n",
       "      <td>21.9</td>\n",
       "      <td>26.00000</td>\n",
       "      <td>32.0</td>\n",
       "    </tr>\n",
       "    <tr>\n",
       "      <th>Salary</th>\n",
       "      <td>263.0</td>\n",
       "      <td>535.925882</td>\n",
       "      <td>451.118681</td>\n",
       "      <td>67.5</td>\n",
       "      <td>70.00</td>\n",
       "      <td>86.6</td>\n",
       "      <td>100.0</td>\n",
       "      <td>190.0</td>\n",
       "      <td>425.0</td>\n",
       "      <td>750.0</td>\n",
       "      <td>809.0</td>\n",
       "      <td>1048.6666</td>\n",
       "      <td>1346.0</td>\n",
       "      <td>2032.88654</td>\n",
       "      <td>2460.0</td>\n",
       "    </tr>\n",
       "  </tbody>\n",
       "</table>\n",
       "</div>"
      ],
      "text/plain": [
       "         count         mean          std   min      1%     5%    10%    25%  \\\n",
       "AtBat    263.0   403.642586   147.307209  19.0  126.62  181.3  205.6  282.5   \n",
       "Hits     263.0   107.828897    45.125326   1.0   30.10   42.1   52.0   71.5   \n",
       "HmRun    263.0    11.619772     8.757108   0.0    0.00    1.0    2.0    5.0   \n",
       "Runs     263.0    54.745247    25.539816   0.0   11.10   19.1   24.0   33.5   \n",
       "RBI      263.0    51.486692    25.882714   0.0    8.00   18.0   23.0   30.0   \n",
       "Walks    263.0    41.114068    21.718056   0.0    4.24   12.0   16.0   23.0   \n",
       "Years    263.0     7.311787     4.793616   1.0    1.00    1.0    2.0    4.0   \n",
       "CAtBat   263.0  2657.543726  2286.582929  19.0  190.30  279.9  413.6  842.5   \n",
       "CHits    263.0   722.186312   648.199644   4.0   43.24   68.0  102.2  212.0   \n",
       "CHmRun   263.0    69.239544    82.197581   0.0    0.62    2.0    5.0   15.0   \n",
       "CRuns    263.0   361.220532   331.198571   2.0   17.24   32.0   51.8  105.5   \n",
       "CRBI     263.0   330.418251   323.367668   3.0    9.62   29.2   38.2   95.0   \n",
       "CWalks   263.0   260.266160   264.055868   1.0    9.86   22.2   33.2   71.0   \n",
       "PutOuts  263.0   290.711027   279.934575   0.0    0.00   37.4   62.6  113.5   \n",
       "Assists  263.0   118.760456   145.080577   0.0    0.00    0.1    3.0    8.0   \n",
       "Errors   263.0     8.593156     6.606574   0.0    0.00    0.1    2.0    3.0   \n",
       "Salary   263.0   535.925882   451.118681  67.5   70.00   86.6  100.0  190.0   \n",
       "\n",
       "            50%     75%     80%        90%     95%         99%      max  \n",
       "AtBat     413.0   526.0   554.6   591.0000   617.8   668.32000    687.0  \n",
       "Hits      103.0   141.5   148.6   168.0000   177.9   211.76000    238.0  \n",
       "HmRun       9.0    18.0    20.0    25.0000    29.0    33.00000     40.0  \n",
       "Runs       52.0    73.0    77.6    90.0000    96.8   111.42000    130.0  \n",
       "RBI        47.0    71.0    75.6    88.0000    99.8   114.14000    121.0  \n",
       "Walks      37.0    57.0    62.0    71.8000    78.9    94.00000    105.0  \n",
       "Years       6.0    10.0    12.0    14.0000    16.9    19.38000     24.0  \n",
       "CAtBat   1931.0  3890.5  4406.8  6098.0000  7120.1  8732.34000  14053.0  \n",
       "CHits     516.0  1054.0  1209.0  1658.0000  2023.5  2481.48000   4256.0  \n",
       "CHmRun     40.0    92.5   105.8   174.8000   258.4   348.52000    548.0  \n",
       "CRuns     250.0   497.5   602.2   879.6000  1040.6  1173.14000   2165.0  \n",
       "CRBI      230.0   424.5   487.8   835.8000  1065.3  1304.70000   1659.0  \n",
       "CWalks    174.0   328.5   404.8   641.4000   816.2  1165.30000   1566.0  \n",
       "PutOuts   224.0   322.5   358.6   679.6000   936.3  1276.18000   1377.0  \n",
       "Assists    45.0   192.0   252.6   373.6000   441.8   480.14000    492.0  \n",
       "Errors      7.0    13.0    15.0    18.0000    21.9    26.00000     32.0  \n",
       "Salary    425.0   750.0   809.0  1048.6666  1346.0  2032.88654   2460.0  "
      ]
     },
     "execution_count": 13,
     "metadata": {},
     "output_type": "execute_result"
    }
   ],
   "source": [
    "df1.describe([0.01,0.05,0.10,0.25,0.50,0.75,0.80,0.90,0.95,0.99]).T "
   ]
  },
  {
   "cell_type": "code",
   "execution_count": 14,
   "metadata": {},
   "outputs": [
    {
     "data": {
      "text/plain": [
       "(0.977, 6.75]    172\n",
       "(6.75, 12.5]      90\n",
       "(12.5, 18.25]     55\n",
       "(18.25, 24.0]      5\n",
       "Name: Years, dtype: int64"
      ]
     },
     "execution_count": 14,
     "metadata": {},
     "output_type": "execute_result"
    }
   ],
   "source": [
    "df1['Experience'] = pd.cut(df1['Years'],4)\n",
    "\n",
    "pd.cut(df['Years'],4).value_counts()"
   ]
  },
  {
   "cell_type": "code",
   "execution_count": 15,
   "metadata": {},
   "outputs": [
    {
     "data": {
      "text/html": [
       "<div>\n",
       "<style scoped>\n",
       "    .dataframe tbody tr th:only-of-type {\n",
       "        vertical-align: middle;\n",
       "    }\n",
       "\n",
       "    .dataframe tbody tr th {\n",
       "        vertical-align: top;\n",
       "    }\n",
       "\n",
       "    .dataframe thead th {\n",
       "        text-align: right;\n",
       "    }\n",
       "</style>\n",
       "<table border=\"1\" class=\"dataframe\">\n",
       "  <thead>\n",
       "    <tr style=\"text-align: right;\">\n",
       "      <th></th>\n",
       "      <th></th>\n",
       "      <th></th>\n",
       "      <th>Salary</th>\n",
       "    </tr>\n",
       "    <tr>\n",
       "      <th>League</th>\n",
       "      <th>Division</th>\n",
       "      <th>Experience</th>\n",
       "      <th></th>\n",
       "    </tr>\n",
       "  </thead>\n",
       "  <tbody>\n",
       "    <tr>\n",
       "      <th rowspan=\"8\" valign=\"top\">A</th>\n",
       "      <th rowspan=\"4\" valign=\"top\">E</th>\n",
       "      <th>1</th>\n",
       "      <td>427.159091</td>\n",
       "    </tr>\n",
       "    <tr>\n",
       "      <th>2</th>\n",
       "      <td>787.252400</td>\n",
       "    </tr>\n",
       "    <tr>\n",
       "      <th>3</th>\n",
       "      <td>816.311353</td>\n",
       "    </tr>\n",
       "    <tr>\n",
       "      <th>4</th>\n",
       "      <td>665.416750</td>\n",
       "    </tr>\n",
       "    <tr>\n",
       "      <th rowspan=\"4\" valign=\"top\">W</th>\n",
       "      <th>1</th>\n",
       "      <td>223.935897</td>\n",
       "    </tr>\n",
       "    <tr>\n",
       "      <th>2</th>\n",
       "      <td>609.479188</td>\n",
       "    </tr>\n",
       "    <tr>\n",
       "      <th>3</th>\n",
       "      <td>835.250000</td>\n",
       "    </tr>\n",
       "    <tr>\n",
       "      <th>4</th>\n",
       "      <td>480.416667</td>\n",
       "    </tr>\n",
       "    <tr>\n",
       "      <th rowspan=\"8\" valign=\"top\">N</th>\n",
       "      <th rowspan=\"4\" valign=\"top\">E</th>\n",
       "      <th>1</th>\n",
       "      <td>325.930097</td>\n",
       "    </tr>\n",
       "    <tr>\n",
       "      <th>2</th>\n",
       "      <td>812.394684</td>\n",
       "    </tr>\n",
       "    <tr>\n",
       "      <th>3</th>\n",
       "      <td>894.322667</td>\n",
       "    </tr>\n",
       "    <tr>\n",
       "      <th>4</th>\n",
       "      <td>662.500000</td>\n",
       "    </tr>\n",
       "    <tr>\n",
       "      <th rowspan=\"4\" valign=\"top\">W</th>\n",
       "      <th>1</th>\n",
       "      <td>287.354167</td>\n",
       "    </tr>\n",
       "    <tr>\n",
       "      <th>2</th>\n",
       "      <td>539.393955</td>\n",
       "    </tr>\n",
       "    <tr>\n",
       "      <th>3</th>\n",
       "      <td>721.894000</td>\n",
       "    </tr>\n",
       "    <tr>\n",
       "      <th>4</th>\n",
       "      <td>665.555500</td>\n",
       "    </tr>\n",
       "  </tbody>\n",
       "</table>\n",
       "</div>"
      ],
      "text/plain": [
       "                                Salary\n",
       "League Division Experience            \n",
       "A      E        1           427.159091\n",
       "                2           787.252400\n",
       "                3           816.311353\n",
       "                4           665.416750\n",
       "       W        1           223.935897\n",
       "                2           609.479188\n",
       "                3           835.250000\n",
       "                4           480.416667\n",
       "N      E        1           325.930097\n",
       "                2           812.394684\n",
       "                3           894.322667\n",
       "                4           662.500000\n",
       "       W        1           287.354167\n",
       "                2           539.393955\n",
       "                3           721.894000\n",
       "                4           665.555500"
      ]
     },
     "execution_count": 15,
     "metadata": {},
     "output_type": "execute_result"
    }
   ],
   "source": [
    "df1['Experience'] = pd.cut(df['Years'],[0,5,10,15,25],labels=[1,2,3,4])\n",
    "df1.groupby(['League','Division', 'Experience']).agg({'Salary':'mean'})"
   ]
  },
  {
   "cell_type": "code",
   "execution_count": 16,
   "metadata": {},
   "outputs": [],
   "source": [
    "df1['Salary'] = df1['Salary'].fillna(df1.groupby(['League','Division', 'Experience'])['Salary'].transform('mean'))"
   ]
  },
  {
   "cell_type": "code",
   "execution_count": 17,
   "metadata": {},
   "outputs": [
    {
     "data": {
      "text/html": [
       "<div>\n",
       "<style scoped>\n",
       "    .dataframe tbody tr th:only-of-type {\n",
       "        vertical-align: middle;\n",
       "    }\n",
       "\n",
       "    .dataframe tbody tr th {\n",
       "        vertical-align: top;\n",
       "    }\n",
       "\n",
       "    .dataframe thead th {\n",
       "        text-align: right;\n",
       "    }\n",
       "</style>\n",
       "<table border=\"1\" class=\"dataframe\">\n",
       "  <thead>\n",
       "    <tr style=\"text-align: right;\">\n",
       "      <th></th>\n",
       "      <th>count</th>\n",
       "      <th>mean</th>\n",
       "      <th>std</th>\n",
       "      <th>min</th>\n",
       "      <th>1%</th>\n",
       "      <th>5%</th>\n",
       "      <th>10%</th>\n",
       "      <th>25%</th>\n",
       "      <th>50%</th>\n",
       "      <th>75%</th>\n",
       "      <th>90%</th>\n",
       "      <th>95%</th>\n",
       "      <th>99%</th>\n",
       "      <th>max</th>\n",
       "    </tr>\n",
       "  </thead>\n",
       "  <tbody>\n",
       "    <tr>\n",
       "      <th>AtBat</th>\n",
       "      <td>263.0</td>\n",
       "      <td>403.642586</td>\n",
       "      <td>147.307209</td>\n",
       "      <td>19.0</td>\n",
       "      <td>126.62</td>\n",
       "      <td>181.3</td>\n",
       "      <td>205.6</td>\n",
       "      <td>282.5</td>\n",
       "      <td>413.0</td>\n",
       "      <td>526.0</td>\n",
       "      <td>591.0000</td>\n",
       "      <td>617.8</td>\n",
       "      <td>668.32000</td>\n",
       "      <td>687.0</td>\n",
       "    </tr>\n",
       "    <tr>\n",
       "      <th>Hits</th>\n",
       "      <td>263.0</td>\n",
       "      <td>107.828897</td>\n",
       "      <td>45.125326</td>\n",
       "      <td>1.0</td>\n",
       "      <td>30.10</td>\n",
       "      <td>42.1</td>\n",
       "      <td>52.0</td>\n",
       "      <td>71.5</td>\n",
       "      <td>103.0</td>\n",
       "      <td>141.5</td>\n",
       "      <td>168.0000</td>\n",
       "      <td>177.9</td>\n",
       "      <td>211.76000</td>\n",
       "      <td>238.0</td>\n",
       "    </tr>\n",
       "    <tr>\n",
       "      <th>HmRun</th>\n",
       "      <td>263.0</td>\n",
       "      <td>11.619772</td>\n",
       "      <td>8.757108</td>\n",
       "      <td>0.0</td>\n",
       "      <td>0.00</td>\n",
       "      <td>1.0</td>\n",
       "      <td>2.0</td>\n",
       "      <td>5.0</td>\n",
       "      <td>9.0</td>\n",
       "      <td>18.0</td>\n",
       "      <td>25.0000</td>\n",
       "      <td>29.0</td>\n",
       "      <td>33.00000</td>\n",
       "      <td>40.0</td>\n",
       "    </tr>\n",
       "    <tr>\n",
       "      <th>Runs</th>\n",
       "      <td>263.0</td>\n",
       "      <td>54.745247</td>\n",
       "      <td>25.539816</td>\n",
       "      <td>0.0</td>\n",
       "      <td>11.10</td>\n",
       "      <td>19.1</td>\n",
       "      <td>24.0</td>\n",
       "      <td>33.5</td>\n",
       "      <td>52.0</td>\n",
       "      <td>73.0</td>\n",
       "      <td>90.0000</td>\n",
       "      <td>96.8</td>\n",
       "      <td>111.42000</td>\n",
       "      <td>130.0</td>\n",
       "    </tr>\n",
       "    <tr>\n",
       "      <th>RBI</th>\n",
       "      <td>263.0</td>\n",
       "      <td>51.486692</td>\n",
       "      <td>25.882714</td>\n",
       "      <td>0.0</td>\n",
       "      <td>8.00</td>\n",
       "      <td>18.0</td>\n",
       "      <td>23.0</td>\n",
       "      <td>30.0</td>\n",
       "      <td>47.0</td>\n",
       "      <td>71.0</td>\n",
       "      <td>88.0000</td>\n",
       "      <td>99.8</td>\n",
       "      <td>114.14000</td>\n",
       "      <td>121.0</td>\n",
       "    </tr>\n",
       "    <tr>\n",
       "      <th>Walks</th>\n",
       "      <td>263.0</td>\n",
       "      <td>41.114068</td>\n",
       "      <td>21.718056</td>\n",
       "      <td>0.0</td>\n",
       "      <td>4.24</td>\n",
       "      <td>12.0</td>\n",
       "      <td>16.0</td>\n",
       "      <td>23.0</td>\n",
       "      <td>37.0</td>\n",
       "      <td>57.0</td>\n",
       "      <td>71.8000</td>\n",
       "      <td>78.9</td>\n",
       "      <td>94.00000</td>\n",
       "      <td>105.0</td>\n",
       "    </tr>\n",
       "    <tr>\n",
       "      <th>Years</th>\n",
       "      <td>263.0</td>\n",
       "      <td>7.311787</td>\n",
       "      <td>4.793616</td>\n",
       "      <td>1.0</td>\n",
       "      <td>1.00</td>\n",
       "      <td>1.0</td>\n",
       "      <td>2.0</td>\n",
       "      <td>4.0</td>\n",
       "      <td>6.0</td>\n",
       "      <td>10.0</td>\n",
       "      <td>14.0000</td>\n",
       "      <td>16.9</td>\n",
       "      <td>19.38000</td>\n",
       "      <td>24.0</td>\n",
       "    </tr>\n",
       "    <tr>\n",
       "      <th>CAtBat</th>\n",
       "      <td>263.0</td>\n",
       "      <td>2657.543726</td>\n",
       "      <td>2286.582929</td>\n",
       "      <td>19.0</td>\n",
       "      <td>190.30</td>\n",
       "      <td>279.9</td>\n",
       "      <td>413.6</td>\n",
       "      <td>842.5</td>\n",
       "      <td>1931.0</td>\n",
       "      <td>3890.5</td>\n",
       "      <td>6098.0000</td>\n",
       "      <td>7120.1</td>\n",
       "      <td>8732.34000</td>\n",
       "      <td>14053.0</td>\n",
       "    </tr>\n",
       "    <tr>\n",
       "      <th>CHits</th>\n",
       "      <td>263.0</td>\n",
       "      <td>722.186312</td>\n",
       "      <td>648.199644</td>\n",
       "      <td>4.0</td>\n",
       "      <td>43.24</td>\n",
       "      <td>68.0</td>\n",
       "      <td>102.2</td>\n",
       "      <td>212.0</td>\n",
       "      <td>516.0</td>\n",
       "      <td>1054.0</td>\n",
       "      <td>1658.0000</td>\n",
       "      <td>2023.5</td>\n",
       "      <td>2481.48000</td>\n",
       "      <td>4256.0</td>\n",
       "    </tr>\n",
       "    <tr>\n",
       "      <th>CHmRun</th>\n",
       "      <td>263.0</td>\n",
       "      <td>69.239544</td>\n",
       "      <td>82.197581</td>\n",
       "      <td>0.0</td>\n",
       "      <td>0.62</td>\n",
       "      <td>2.0</td>\n",
       "      <td>5.0</td>\n",
       "      <td>15.0</td>\n",
       "      <td>40.0</td>\n",
       "      <td>92.5</td>\n",
       "      <td>174.8000</td>\n",
       "      <td>258.4</td>\n",
       "      <td>348.52000</td>\n",
       "      <td>548.0</td>\n",
       "    </tr>\n",
       "    <tr>\n",
       "      <th>CRuns</th>\n",
       "      <td>263.0</td>\n",
       "      <td>361.220532</td>\n",
       "      <td>331.198571</td>\n",
       "      <td>2.0</td>\n",
       "      <td>17.24</td>\n",
       "      <td>32.0</td>\n",
       "      <td>51.8</td>\n",
       "      <td>105.5</td>\n",
       "      <td>250.0</td>\n",
       "      <td>497.5</td>\n",
       "      <td>879.6000</td>\n",
       "      <td>1040.6</td>\n",
       "      <td>1173.14000</td>\n",
       "      <td>2165.0</td>\n",
       "    </tr>\n",
       "    <tr>\n",
       "      <th>CRBI</th>\n",
       "      <td>263.0</td>\n",
       "      <td>330.418251</td>\n",
       "      <td>323.367668</td>\n",
       "      <td>3.0</td>\n",
       "      <td>9.62</td>\n",
       "      <td>29.2</td>\n",
       "      <td>38.2</td>\n",
       "      <td>95.0</td>\n",
       "      <td>230.0</td>\n",
       "      <td>424.5</td>\n",
       "      <td>835.8000</td>\n",
       "      <td>1065.3</td>\n",
       "      <td>1304.70000</td>\n",
       "      <td>1659.0</td>\n",
       "    </tr>\n",
       "    <tr>\n",
       "      <th>CWalks</th>\n",
       "      <td>263.0</td>\n",
       "      <td>260.266160</td>\n",
       "      <td>264.055868</td>\n",
       "      <td>1.0</td>\n",
       "      <td>9.86</td>\n",
       "      <td>22.2</td>\n",
       "      <td>33.2</td>\n",
       "      <td>71.0</td>\n",
       "      <td>174.0</td>\n",
       "      <td>328.5</td>\n",
       "      <td>641.4000</td>\n",
       "      <td>816.2</td>\n",
       "      <td>1165.30000</td>\n",
       "      <td>1566.0</td>\n",
       "    </tr>\n",
       "    <tr>\n",
       "      <th>PutOuts</th>\n",
       "      <td>263.0</td>\n",
       "      <td>290.711027</td>\n",
       "      <td>279.934575</td>\n",
       "      <td>0.0</td>\n",
       "      <td>0.00</td>\n",
       "      <td>37.4</td>\n",
       "      <td>62.6</td>\n",
       "      <td>113.5</td>\n",
       "      <td>224.0</td>\n",
       "      <td>322.5</td>\n",
       "      <td>679.6000</td>\n",
       "      <td>936.3</td>\n",
       "      <td>1276.18000</td>\n",
       "      <td>1377.0</td>\n",
       "    </tr>\n",
       "    <tr>\n",
       "      <th>Assists</th>\n",
       "      <td>263.0</td>\n",
       "      <td>118.760456</td>\n",
       "      <td>145.080577</td>\n",
       "      <td>0.0</td>\n",
       "      <td>0.00</td>\n",
       "      <td>0.1</td>\n",
       "      <td>3.0</td>\n",
       "      <td>8.0</td>\n",
       "      <td>45.0</td>\n",
       "      <td>192.0</td>\n",
       "      <td>373.6000</td>\n",
       "      <td>441.8</td>\n",
       "      <td>480.14000</td>\n",
       "      <td>492.0</td>\n",
       "    </tr>\n",
       "    <tr>\n",
       "      <th>Errors</th>\n",
       "      <td>263.0</td>\n",
       "      <td>8.593156</td>\n",
       "      <td>6.606574</td>\n",
       "      <td>0.0</td>\n",
       "      <td>0.00</td>\n",
       "      <td>0.1</td>\n",
       "      <td>2.0</td>\n",
       "      <td>3.0</td>\n",
       "      <td>7.0</td>\n",
       "      <td>13.0</td>\n",
       "      <td>18.0000</td>\n",
       "      <td>21.9</td>\n",
       "      <td>26.00000</td>\n",
       "      <td>32.0</td>\n",
       "    </tr>\n",
       "    <tr>\n",
       "      <th>Salary</th>\n",
       "      <td>263.0</td>\n",
       "      <td>535.925882</td>\n",
       "      <td>451.118681</td>\n",
       "      <td>67.5</td>\n",
       "      <td>70.00</td>\n",
       "      <td>86.6</td>\n",
       "      <td>100.0</td>\n",
       "      <td>190.0</td>\n",
       "      <td>425.0</td>\n",
       "      <td>750.0</td>\n",
       "      <td>1048.6666</td>\n",
       "      <td>1346.0</td>\n",
       "      <td>2032.88654</td>\n",
       "      <td>2460.0</td>\n",
       "    </tr>\n",
       "  </tbody>\n",
       "</table>\n",
       "</div>"
      ],
      "text/plain": [
       "         count         mean          std   min      1%     5%    10%    25%  \\\n",
       "AtBat    263.0   403.642586   147.307209  19.0  126.62  181.3  205.6  282.5   \n",
       "Hits     263.0   107.828897    45.125326   1.0   30.10   42.1   52.0   71.5   \n",
       "HmRun    263.0    11.619772     8.757108   0.0    0.00    1.0    2.0    5.0   \n",
       "Runs     263.0    54.745247    25.539816   0.0   11.10   19.1   24.0   33.5   \n",
       "RBI      263.0    51.486692    25.882714   0.0    8.00   18.0   23.0   30.0   \n",
       "Walks    263.0    41.114068    21.718056   0.0    4.24   12.0   16.0   23.0   \n",
       "Years    263.0     7.311787     4.793616   1.0    1.00    1.0    2.0    4.0   \n",
       "CAtBat   263.0  2657.543726  2286.582929  19.0  190.30  279.9  413.6  842.5   \n",
       "CHits    263.0   722.186312   648.199644   4.0   43.24   68.0  102.2  212.0   \n",
       "CHmRun   263.0    69.239544    82.197581   0.0    0.62    2.0    5.0   15.0   \n",
       "CRuns    263.0   361.220532   331.198571   2.0   17.24   32.0   51.8  105.5   \n",
       "CRBI     263.0   330.418251   323.367668   3.0    9.62   29.2   38.2   95.0   \n",
       "CWalks   263.0   260.266160   264.055868   1.0    9.86   22.2   33.2   71.0   \n",
       "PutOuts  263.0   290.711027   279.934575   0.0    0.00   37.4   62.6  113.5   \n",
       "Assists  263.0   118.760456   145.080577   0.0    0.00    0.1    3.0    8.0   \n",
       "Errors   263.0     8.593156     6.606574   0.0    0.00    0.1    2.0    3.0   \n",
       "Salary   263.0   535.925882   451.118681  67.5   70.00   86.6  100.0  190.0   \n",
       "\n",
       "            50%     75%        90%     95%         99%      max  \n",
       "AtBat     413.0   526.0   591.0000   617.8   668.32000    687.0  \n",
       "Hits      103.0   141.5   168.0000   177.9   211.76000    238.0  \n",
       "HmRun       9.0    18.0    25.0000    29.0    33.00000     40.0  \n",
       "Runs       52.0    73.0    90.0000    96.8   111.42000    130.0  \n",
       "RBI        47.0    71.0    88.0000    99.8   114.14000    121.0  \n",
       "Walks      37.0    57.0    71.8000    78.9    94.00000    105.0  \n",
       "Years       6.0    10.0    14.0000    16.9    19.38000     24.0  \n",
       "CAtBat   1931.0  3890.5  6098.0000  7120.1  8732.34000  14053.0  \n",
       "CHits     516.0  1054.0  1658.0000  2023.5  2481.48000   4256.0  \n",
       "CHmRun     40.0    92.5   174.8000   258.4   348.52000    548.0  \n",
       "CRuns     250.0   497.5   879.6000  1040.6  1173.14000   2165.0  \n",
       "CRBI      230.0   424.5   835.8000  1065.3  1304.70000   1659.0  \n",
       "CWalks    174.0   328.5   641.4000   816.2  1165.30000   1566.0  \n",
       "PutOuts   224.0   322.5   679.6000   936.3  1276.18000   1377.0  \n",
       "Assists    45.0   192.0   373.6000   441.8   480.14000    492.0  \n",
       "Errors      7.0    13.0    18.0000    21.9    26.00000     32.0  \n",
       "Salary    425.0   750.0  1048.6666  1346.0  2032.88654   2460.0  "
      ]
     },
     "execution_count": 17,
     "metadata": {},
     "output_type": "execute_result"
    }
   ],
   "source": [
    "df1.describe([0.01, 0.05,0.10,0.25,0.50,0.75,0.90,0.95,0.99]).T"
   ]
  },
  {
   "cell_type": "code",
   "execution_count": 18,
   "metadata": {},
   "outputs": [
    {
     "name": "stdout",
     "output_type": "stream",
     "text": [
      "AtBat  : 0\n",
      "Hits  : 0\n",
      "HmRun  : 1\n",
      "Runs  : 0\n",
      "RBI  : 0\n",
      "Walks  : 0\n",
      "Years  : 3\n",
      "CAtBat  : 4\n",
      "CHits  : 5\n",
      "CHmRun  : 23\n",
      "CRuns  : 8\n",
      "CRBI  : 22\n",
      "CWalks  : 20\n",
      "PutOuts  : 29\n",
      "Assists  : 5\n",
      "Errors  : 2\n"
     ]
    }
   ],
   "source": [
    "num_features = df1.select_dtypes(['int64']).columns\n",
    "\n",
    "for feature in num_features:\n",
    "\n",
    "    Q1 = df1[feature].quantile(0.25)\n",
    "    Q3 = df1[feature].quantile(0.75)\n",
    "    \n",
    "    IQR = Q3-Q1\n",
    "    \n",
    "    upper = Q3 + 1.5*IQR\n",
    "    lower = Q1 - 1.5*IQR\n",
    "    \n",
    "    if df1[(df1[feature] > upper) | (df1[feature] < lower)].any(axis=None):\n",
    "        print(feature,\" : \" + str(df1[(df1[feature] > upper) | (df1[feature] < lower)].shape[0]))\n",
    "    else:\n",
    "        print(feature, \" : 0\")\n",
    "        \n",
    "  "
   ]
  },
  {
   "cell_type": "code",
   "execution_count": 19,
   "metadata": {},
   "outputs": [
    {
     "data": {
      "text/plain": [
       "(263, 21)"
      ]
     },
     "execution_count": 19,
     "metadata": {},
     "output_type": "execute_result"
    }
   ],
   "source": [
    "df1.shape"
   ]
  },
  {
   "cell_type": "code",
   "execution_count": 21,
   "metadata": {},
   "outputs": [
    {
     "data": {
      "text/plain": [
       "array([-4.67601096, -2.44861862, -2.41886961, -1.9539352 , -1.91323419,\n",
       "       -1.85450277, -1.7859493 , -1.65334844, -1.58420949, -1.58094228,\n",
       "       -1.5545962 , -1.52742576, -1.51163292, -1.4922859 , -1.47182166,\n",
       "       -1.35271865, -1.35067267, -1.34915509, -1.32768365, -1.26284334])"
      ]
     },
     "execution_count": 21,
     "metadata": {},
     "output_type": "execute_result"
    }
   ],
   "source": [
    "from sklearn.neighbors import LocalOutlierFactor\n",
    "\n",
    "clf=LocalOutlierFactor(n_neighbors=20, contamination=0.1)\n",
    "clf.fit_predict(df1[num_features])\n",
    "df_scores=clf.negative_outlier_factor_\n",
    "df_scores= np.sort(df_scores)\n",
    "df_scores[0:20]"
   ]
  },
  {
   "cell_type": "code",
   "execution_count": 22,
   "metadata": {},
   "outputs": [
    {
     "data": {
      "image/png": "[encoded data removed]",
      "text/plain": [
       "<Figure size 432x288 with 1 Axes>"
      ]
     },
     "metadata": {
      "needs_background": "light"
     },
     "output_type": "display_data"
    }
   ],
   "source": [
    "sns.boxplot(df_scores);"
   ]
  },
  {
   "cell_type": "code",
   "execution_count": 23,
   "metadata": {},
   "outputs": [
    {
     "name": "stdout",
     "output_type": "stream",
     "text": [
      "-1.6533484374915808\n"
     ]
    }
   ],
   "source": [
    "threshold=np.sort(df_scores)[7]\n",
    "print(threshold)\n",
    "df1 = df1.loc[df_scores > threshold]\n",
    "df1 = df1.reset_index(drop=True)"
   ]
  },
  {
   "cell_type": "code",
   "execution_count": 24,
   "metadata": {},
   "outputs": [],
   "source": [
    "cat_features = ['League','Division','NewLeague'] \n",
    "num_features = list(df.select_dtypes(['int64']).columns)"
   ]
  },
  {
   "cell_type": "code",
   "execution_count": 42,
   "metadata": {},
   "outputs": [
    {
     "data": {
      "text/plain": [
       "['League', 'Division', 'NewLeague', 'Experience', 'CRBI_bins']"
      ]
     },
     "execution_count": 42,
     "metadata": {},
     "output_type": "execute_result"
    }
   ],
   "source": [
    "cat_features"
   ]
  },
  {
   "cell_type": "code",
   "execution_count": 25,
   "metadata": {},
   "outputs": [],
   "source": [
    "corr = df.corr()"
   ]
  },
  {
   "cell_type": "code",
   "execution_count": 27,
   "metadata": {},
   "outputs": [
    {
     "data": {
      "image/png": "[encoded data removed]",
      "text/plain": [
       "<Figure size 1080x1080 with 2 Axes>"
      ]
     },
     "metadata": {
      "needs_background": "light"
     },
     "output_type": "display_data"
    }
   ],
   "source": [
    "fig, ax = plt.subplots(figsize=(15,15))\n",
    "sns.heatmap(corr,annot=True,cmap=\"BuPu\")\n",
    "plt.show()"
   ]
  },
  {
   "cell_type": "code",
   "execution_count": 28,
   "metadata": {},
   "outputs": [
    {
     "data": {
      "text/html": [
       "<div>\n",
       "<style scoped>\n",
       "    .dataframe tbody tr th:only-of-type {\n",
       "        vertical-align: middle;\n",
       "    }\n",
       "\n",
       "    .dataframe tbody tr th {\n",
       "        vertical-align: top;\n",
       "    }\n",
       "\n",
       "    .dataframe thead th {\n",
       "        text-align: right;\n",
       "    }\n",
       "</style>\n",
       "<table border=\"1\" class=\"dataframe\">\n",
       "  <thead>\n",
       "    <tr style=\"text-align: right;\">\n",
       "      <th>League</th>\n",
       "      <th>A</th>\n",
       "      <th>N</th>\n",
       "    </tr>\n",
       "  </thead>\n",
       "  <tbody>\n",
       "    <tr>\n",
       "      <th>AtBat</th>\n",
       "      <td>424.205882</td>\n",
       "      <td>381.974790</td>\n",
       "    </tr>\n",
       "    <tr>\n",
       "      <th>Hits</th>\n",
       "      <td>114.147059</td>\n",
       "      <td>101.142857</td>\n",
       "    </tr>\n",
       "    <tr>\n",
       "      <th>HmRun</th>\n",
       "      <td>13.595588</td>\n",
       "      <td>9.588235</td>\n",
       "    </tr>\n",
       "    <tr>\n",
       "      <th>Runs</th>\n",
       "      <td>59.816176</td>\n",
       "      <td>49.764706</td>\n",
       "    </tr>\n",
       "    <tr>\n",
       "      <th>RBI</th>\n",
       "      <td>56.176471</td>\n",
       "      <td>46.689076</td>\n",
       "    </tr>\n",
       "    <tr>\n",
       "      <th>Walks</th>\n",
       "      <td>42.529412</td>\n",
       "      <td>40.134454</td>\n",
       "    </tr>\n",
       "    <tr>\n",
       "      <th>Years</th>\n",
       "      <td>7.500000</td>\n",
       "      <td>7.184874</td>\n",
       "    </tr>\n",
       "    <tr>\n",
       "      <th>CAtBat</th>\n",
       "      <td>2720.294118</td>\n",
       "      <td>2625.252101</td>\n",
       "    </tr>\n",
       "    <tr>\n",
       "      <th>CHits</th>\n",
       "      <td>739.904412</td>\n",
       "      <td>714.042017</td>\n",
       "    </tr>\n",
       "    <tr>\n",
       "      <th>CHmRun</th>\n",
       "      <td>78.661765</td>\n",
       "      <td>59.806723</td>\n",
       "    </tr>\n",
       "    <tr>\n",
       "      <th>CRuns</th>\n",
       "      <td>380.889706</td>\n",
       "      <td>346.008403</td>\n",
       "    </tr>\n",
       "    <tr>\n",
       "      <th>CRBI</th>\n",
       "      <td>349.029412</td>\n",
       "      <td>314.722689</td>\n",
       "    </tr>\n",
       "    <tr>\n",
       "      <th>CWalks</th>\n",
       "      <td>269.933824</td>\n",
       "      <td>256.100840</td>\n",
       "    </tr>\n",
       "    <tr>\n",
       "      <th>PutOuts</th>\n",
       "      <td>277.029412</td>\n",
       "      <td>299.512605</td>\n",
       "    </tr>\n",
       "    <tr>\n",
       "      <th>Assists</th>\n",
       "      <td>108.323529</td>\n",
       "      <td>127.773109</td>\n",
       "    </tr>\n",
       "    <tr>\n",
       "      <th>Errors</th>\n",
       "      <td>7.845588</td>\n",
       "      <td>9.260504</td>\n",
       "    </tr>\n",
       "    <tr>\n",
       "      <th>Salary</th>\n",
       "      <td>544.176007</td>\n",
       "      <td>541.168655</td>\n",
       "    </tr>\n",
       "  </tbody>\n",
       "</table>\n",
       "</div>"
      ],
      "text/plain": [
       "League             A            N\n",
       "AtBat     424.205882   381.974790\n",
       "Hits      114.147059   101.142857\n",
       "HmRun      13.595588     9.588235\n",
       "Runs       59.816176    49.764706\n",
       "RBI        56.176471    46.689076\n",
       "Walks      42.529412    40.134454\n",
       "Years       7.500000     7.184874\n",
       "CAtBat   2720.294118  2625.252101\n",
       "CHits     739.904412   714.042017\n",
       "CHmRun     78.661765    59.806723\n",
       "CRuns     380.889706   346.008403\n",
       "CRBI      349.029412   314.722689\n",
       "CWalks    269.933824   256.100840\n",
       "PutOuts   277.029412   299.512605\n",
       "Assists   108.323529   127.773109\n",
       "Errors      7.845588     9.260504\n",
       "Salary    544.176007   541.168655"
      ]
     },
     "execution_count": 28,
     "metadata": {},
     "output_type": "execute_result"
    }
   ],
   "source": [
    "df1.groupby('League').mean().T"
   ]
  },
  {
   "cell_type": "code",
   "execution_count": 29,
   "metadata": {},
   "outputs": [
    {
     "name": "stdout",
     "output_type": "stream",
     "text": [
      "Exploring LEAGUE feature\n",
      "A    0.533333\n",
      "N    0.466667\n",
      "Name: League, dtype: float64\n"
     ]
    },
    {
     "data": {
      "image/png": "[encoded data removed]",
      "text/plain": [
       "<Figure size 432x288 with 1 Axes>"
      ]
     },
     "metadata": {
      "needs_background": "light"
     },
     "output_type": "display_data"
    },
    {
     "name": "stdout",
     "output_type": "stream",
     "text": [
      "Exploring DIVISION feature\n",
      "W    0.505882\n",
      "E    0.494118\n",
      "Name: Division, dtype: float64\n"
     ]
    },
    {
     "data": {
      "image/png": "[encoded data removed]",
      "text/plain": [
       "<Figure size 432x288 with 1 Axes>"
      ]
     },
     "metadata": {
      "needs_background": "light"
     },
     "output_type": "display_data"
    },
    {
     "name": "stdout",
     "output_type": "stream",
     "text": [
      "Exploring NEWLEAGUE feature\n",
      "A    0.537255\n",
      "N    0.462745\n",
      "Name: NewLeague, dtype: float64\n"
     ]
    },
    {
     "data": {
      "image/png": "[encoded data removed]",
      "text/plain": [
       "<Figure size 432x288 with 1 Axes>"
      ]
     },
     "metadata": {
      "needs_background": "light"
     },
     "output_type": "display_data"
    }
   ],
   "source": [
    "for col in cat_features:\n",
    "    print('Exploring {} feature'.format(col.upper()))\n",
    "    print(df1[col].value_counts(normalize=True,ascending=False))\n",
    "    sns.barplot(x=col, y=\"Salary\", data=df1)\n",
    "    plt.show()"
   ]
  },
  {
   "cell_type": "code",
   "execution_count": 43,
   "metadata": {},
   "outputs": [
    {
     "data": {
      "image/png": "[encoded data removed]",
      "text/plain": [
       "<Figure size 432x288 with 1 Axes>"
      ]
     },
     "metadata": {
      "needs_background": "light"
     },
     "output_type": "display_data"
    }
   ],
   "source": [
    "sns.scatterplot(x=df1['CHits']/df1['Hits'] ,y='Salary',data=df1,hue='League')\n",
    "plt.show()"
   ]
  },
  {
   "cell_type": "code",
   "execution_count": 30,
   "metadata": {},
   "outputs": [],
   "source": [
    "df1['Experience'] = pd.cut(df1['Years'],[0,5,10,15,25],labels=[1,2,3,4])"
   ]
  },
  {
   "cell_type": "code",
   "execution_count": 32,
   "metadata": {},
   "outputs": [
    {
     "data": {
      "text/plain": [
       "1    111\n",
       "2     82\n",
       "3     44\n",
       "4     18\n",
       "Name: Experience, dtype: int64"
      ]
     },
     "execution_count": 32,
     "metadata": {},
     "output_type": "execute_result"
    }
   ],
   "source": [
    "df1['Experience'].value_counts()"
   ]
  },
  {
   "cell_type": "code",
   "execution_count": 33,
   "metadata": {},
   "outputs": [],
   "source": [
    "df1['CRBI_bins'] = pd.cut(df['CRBI'],4,labels=[1,2,3,4])"
   ]
  },
  {
   "cell_type": "code",
   "execution_count": 34,
   "metadata": {},
   "outputs": [],
   "source": [
    "cat_features.extend(['Experience','CRBI_bins'])"
   ]
  },
  {
   "cell_type": "code",
   "execution_count": 35,
   "metadata": {},
   "outputs": [
    {
     "data": {
      "text/plain": [
       "['League', 'Division', 'NewLeague', 'Experience', 'CRBI_bins']"
      ]
     },
     "execution_count": 35,
     "metadata": {},
     "output_type": "execute_result"
    }
   ],
   "source": [
    "cat_features"
   ]
  },
  {
   "cell_type": "code",
   "execution_count": 44,
   "metadata": {},
   "outputs": [],
   "source": [
    "df1['New_HitRate']=df1[\"CAtBat\"]/df1[\"CHits\"]\n",
    "df1['New_AtBat']=df1[\"CAtBat\"]/df1[\"AtBat\"]\n",
    "df1['New_RBI']=df1[\"CRBI\"]/df1[\"RBI\"]\n",
    "df1['New_Walks']=df1[\"CWalks\"]/df1[\"Walks\"]\n",
    "df1['New_Hits']=df1[\"CHits\"]/df1[\"Hits\"]\n",
    "df1['New_HmRun']=df1[\"CHmRun\"]/df1[\"HmRun\"]\n",
    "df1['New_Runs']=df1[\"CRuns\"]/df1[\"Runs\"]\n",
    "df1['New_ChmrunRate']=df1[\"CHmRun\"]/df1[\"CHits\"]\n",
    "df1['New_Cat']=df1[\"CAtBat\"]/df1[\"CRuns\"]\n",
    "df1['New_Assist']=df1[\"Hits\"]/df1[\"Assists\"]\n",
    "df1[\"CAtBat/Years\"]= df1[\"CAtBat\"]/df1[\"Years\"]\n",
    "df1[\"CHits/Years\"]= df1[\"CHits\"]/df1[\"Years\"]\n",
    "df1[\"CHmRun/Years\"]= df1[\"CHmRun\"]/df1[\"Years\"]\n",
    "df1[\"Assists/Errors\"]= df1[\"Assists\"]/df1[\"Errors\"]\n",
    "df1[\"AtBat/PutOuts\"]= df1[\"AtBat\"]/df1[\"PutOuts\"]\n",
    "df1[\"Walks/Years\"]=df1[\"Walks\"]/df[\"Years\"]\n",
    "\n"
   ]
  },
  {
   "cell_type": "code",
   "execution_count": 45,
   "metadata": {},
   "outputs": [],
   "source": [
    "num_features.extend(['CAtBat/Years','CHits/Years','CHmRun/Years','Assists/Errors','AtBat/PutOuts','Walks/Years','New_HitRate','New_RBI','New_Walks','New_Hits','New_HmRun','New_Runs','New_ChmrunRate','New_AtBat','New_Cat','New_Assist'])"
   ]
  },
  {
   "cell_type": "code",
   "execution_count": 46,
   "metadata": {},
   "outputs": [],
   "source": [
    "from sklearn.preprocessing import LabelEncoder,OneHotEncoder"
   ]
  },
  {
   "cell_type": "code",
   "execution_count": 48,
   "metadata": {},
   "outputs": [],
   "source": [
    "df1= pd.get_dummies(df1, columns = cat_features, drop_first = True)"
   ]
  },
  {
   "cell_type": "code",
   "execution_count": 49,
   "metadata": {},
   "outputs": [
    {
     "data": {
      "text/html": [
       "<div>\n",
       "<style scoped>\n",
       "    .dataframe tbody tr th:only-of-type {\n",
       "        vertical-align: middle;\n",
       "    }\n",
       "\n",
       "    .dataframe tbody tr th {\n",
       "        vertical-align: top;\n",
       "    }\n",
       "\n",
       "    .dataframe thead th {\n",
       "        text-align: right;\n",
       "    }\n",
       "</style>\n",
       "<table border=\"1\" class=\"dataframe\">\n",
       "  <thead>\n",
       "    <tr style=\"text-align: right;\">\n",
       "      <th></th>\n",
       "      <th>AtBat</th>\n",
       "      <th>Hits</th>\n",
       "      <th>HmRun</th>\n",
       "      <th>Runs</th>\n",
       "      <th>RBI</th>\n",
       "      <th>Walks</th>\n",
       "      <th>Years</th>\n",
       "      <th>CAtBat</th>\n",
       "      <th>CHits</th>\n",
       "      <th>CHmRun</th>\n",
       "      <th>CRuns</th>\n",
       "      <th>CRBI</th>\n",
       "      <th>CWalks</th>\n",
       "      <th>PutOuts</th>\n",
       "      <th>Assists</th>\n",
       "      <th>Errors</th>\n",
       "      <th>Salary</th>\n",
       "      <th>New_HitRate</th>\n",
       "      <th>New_AtBat</th>\n",
       "      <th>New_RBI</th>\n",
       "      <th>New_Walks</th>\n",
       "      <th>New_Hits</th>\n",
       "      <th>New_HmRun</th>\n",
       "      <th>New_Runs</th>\n",
       "      <th>New_ChmrunRate</th>\n",
       "      <th>New_Cat</th>\n",
       "      <th>New_Assist</th>\n",
       "      <th>CAtBat/Years</th>\n",
       "      <th>CHits/Years</th>\n",
       "      <th>CHmRun/Years</th>\n",
       "      <th>Assists/Errors</th>\n",
       "      <th>AtBat/PutOuts</th>\n",
       "      <th>Walks/Years</th>\n",
       "      <th>League_N</th>\n",
       "      <th>Division_W</th>\n",
       "      <th>NewLeague_N</th>\n",
       "      <th>Experience_2</th>\n",
       "      <th>Experience_3</th>\n",
       "      <th>Experience_4</th>\n",
       "      <th>CRBI_bins_2</th>\n",
       "      <th>CRBI_bins_3</th>\n",
       "      <th>CRBI_bins_4</th>\n",
       "    </tr>\n",
       "  </thead>\n",
       "  <tbody>\n",
       "    <tr>\n",
       "      <th>0</th>\n",
       "      <td>401</td>\n",
       "      <td>92</td>\n",
       "      <td>17</td>\n",
       "      <td>49</td>\n",
       "      <td>66</td>\n",
       "      <td>65</td>\n",
       "      <td>13</td>\n",
       "      <td>5206</td>\n",
       "      <td>1332</td>\n",
       "      <td>253</td>\n",
       "      <td>784</td>\n",
       "      <td>890</td>\n",
       "      <td>866</td>\n",
       "      <td>0</td>\n",
       "      <td>0</td>\n",
       "      <td>0</td>\n",
       "      <td>1100.000</td>\n",
       "      <td>3.908408</td>\n",
       "      <td>12.982544</td>\n",
       "      <td>13.484848</td>\n",
       "      <td>13.323077</td>\n",
       "      <td>14.478261</td>\n",
       "      <td>14.882353</td>\n",
       "      <td>16.000000</td>\n",
       "      <td>0.189940</td>\n",
       "      <td>6.640306</td>\n",
       "      <td>inf</td>\n",
       "      <td>400.461538</td>\n",
       "      <td>102.461538</td>\n",
       "      <td>19.461538</td>\n",
       "      <td>NaN</td>\n",
       "      <td>inf</td>\n",
       "      <td>65.000000</td>\n",
       "      <td>0</td>\n",
       "      <td>0</td>\n",
       "      <td>0</td>\n",
       "      <td>0</td>\n",
       "      <td>1</td>\n",
       "      <td>0</td>\n",
       "      <td>0</td>\n",
       "      <td>0</td>\n",
       "      <td>0</td>\n",
       "    </tr>\n",
       "    <tr>\n",
       "      <th>1</th>\n",
       "      <td>574</td>\n",
       "      <td>159</td>\n",
       "      <td>21</td>\n",
       "      <td>107</td>\n",
       "      <td>75</td>\n",
       "      <td>59</td>\n",
       "      <td>10</td>\n",
       "      <td>4631</td>\n",
       "      <td>1300</td>\n",
       "      <td>90</td>\n",
       "      <td>702</td>\n",
       "      <td>504</td>\n",
       "      <td>488</td>\n",
       "      <td>238</td>\n",
       "      <td>445</td>\n",
       "      <td>22</td>\n",
       "      <td>517.143</td>\n",
       "      <td>3.562308</td>\n",
       "      <td>8.067944</td>\n",
       "      <td>6.720000</td>\n",
       "      <td>8.271186</td>\n",
       "      <td>8.176101</td>\n",
       "      <td>4.285714</td>\n",
       "      <td>6.560748</td>\n",
       "      <td>0.069231</td>\n",
       "      <td>6.596866</td>\n",
       "      <td>0.357303</td>\n",
       "      <td>463.100000</td>\n",
       "      <td>130.000000</td>\n",
       "      <td>9.000000</td>\n",
       "      <td>20.227273</td>\n",
       "      <td>2.411765</td>\n",
       "      <td>4.214286</td>\n",
       "      <td>0</td>\n",
       "      <td>0</td>\n",
       "      <td>0</td>\n",
       "      <td>1</td>\n",
       "      <td>0</td>\n",
       "      <td>0</td>\n",
       "      <td>0</td>\n",
       "      <td>0</td>\n",
       "      <td>0</td>\n",
       "    </tr>\n",
       "    <tr>\n",
       "      <th>2</th>\n",
       "      <td>202</td>\n",
       "      <td>53</td>\n",
       "      <td>4</td>\n",
       "      <td>31</td>\n",
       "      <td>26</td>\n",
       "      <td>27</td>\n",
       "      <td>9</td>\n",
       "      <td>1876</td>\n",
       "      <td>467</td>\n",
       "      <td>15</td>\n",
       "      <td>192</td>\n",
       "      <td>186</td>\n",
       "      <td>161</td>\n",
       "      <td>304</td>\n",
       "      <td>45</td>\n",
       "      <td>11</td>\n",
       "      <td>512.500</td>\n",
       "      <td>4.017131</td>\n",
       "      <td>9.287129</td>\n",
       "      <td>7.153846</td>\n",
       "      <td>5.962963</td>\n",
       "      <td>8.811321</td>\n",
       "      <td>3.750000</td>\n",
       "      <td>6.193548</td>\n",
       "      <td>0.032120</td>\n",
       "      <td>9.770833</td>\n",
       "      <td>1.177778</td>\n",
       "      <td>208.444444</td>\n",
       "      <td>51.888889</td>\n",
       "      <td>1.666667</td>\n",
       "      <td>4.090909</td>\n",
       "      <td>0.664474</td>\n",
       "      <td>9.000000</td>\n",
       "      <td>1</td>\n",
       "      <td>1</td>\n",
       "      <td>1</td>\n",
       "      <td>1</td>\n",
       "      <td>0</td>\n",
       "      <td>0</td>\n",
       "      <td>0</td>\n",
       "      <td>0</td>\n",
       "      <td>0</td>\n",
       "    </tr>\n",
       "    <tr>\n",
       "      <th>3</th>\n",
       "      <td>418</td>\n",
       "      <td>113</td>\n",
       "      <td>13</td>\n",
       "      <td>48</td>\n",
       "      <td>61</td>\n",
       "      <td>47</td>\n",
       "      <td>4</td>\n",
       "      <td>1512</td>\n",
       "      <td>392</td>\n",
       "      <td>41</td>\n",
       "      <td>205</td>\n",
       "      <td>204</td>\n",
       "      <td>203</td>\n",
       "      <td>211</td>\n",
       "      <td>11</td>\n",
       "      <td>7</td>\n",
       "      <td>550.000</td>\n",
       "      <td>3.857143</td>\n",
       "      <td>3.617225</td>\n",
       "      <td>3.344262</td>\n",
       "      <td>4.319149</td>\n",
       "      <td>3.469027</td>\n",
       "      <td>3.153846</td>\n",
       "      <td>4.270833</td>\n",
       "      <td>0.104592</td>\n",
       "      <td>7.375610</td>\n",
       "      <td>10.272727</td>\n",
       "      <td>378.000000</td>\n",
       "      <td>98.000000</td>\n",
       "      <td>10.250000</td>\n",
       "      <td>1.571429</td>\n",
       "      <td>1.981043</td>\n",
       "      <td>4.272727</td>\n",
       "      <td>1</td>\n",
       "      <td>0</td>\n",
       "      <td>1</td>\n",
       "      <td>0</td>\n",
       "      <td>0</td>\n",
       "      <td>0</td>\n",
       "      <td>0</td>\n",
       "      <td>1</td>\n",
       "      <td>0</td>\n",
       "    </tr>\n",
       "    <tr>\n",
       "      <th>4</th>\n",
       "      <td>239</td>\n",
       "      <td>60</td>\n",
       "      <td>0</td>\n",
       "      <td>30</td>\n",
       "      <td>11</td>\n",
       "      <td>22</td>\n",
       "      <td>6</td>\n",
       "      <td>1941</td>\n",
       "      <td>510</td>\n",
       "      <td>4</td>\n",
       "      <td>309</td>\n",
       "      <td>103</td>\n",
       "      <td>207</td>\n",
       "      <td>121</td>\n",
       "      <td>151</td>\n",
       "      <td>6</td>\n",
       "      <td>700.000</td>\n",
       "      <td>3.805882</td>\n",
       "      <td>8.121339</td>\n",
       "      <td>9.363636</td>\n",
       "      <td>9.409091</td>\n",
       "      <td>8.500000</td>\n",
       "      <td>inf</td>\n",
       "      <td>10.300000</td>\n",
       "      <td>0.007843</td>\n",
       "      <td>6.281553</td>\n",
       "      <td>0.397351</td>\n",
       "      <td>323.500000</td>\n",
       "      <td>85.000000</td>\n",
       "      <td>0.666667</td>\n",
       "      <td>25.166667</td>\n",
       "      <td>1.975207</td>\n",
       "      <td>11.000000</td>\n",
       "      <td>0</td>\n",
       "      <td>0</td>\n",
       "      <td>0</td>\n",
       "      <td>1</td>\n",
       "      <td>0</td>\n",
       "      <td>0</td>\n",
       "      <td>0</td>\n",
       "      <td>0</td>\n",
       "      <td>0</td>\n",
       "    </tr>\n",
       "  </tbody>\n",
       "</table>\n",
       "</div>"
      ],
      "text/plain": [
       "   AtBat  Hits  HmRun  Runs  RBI  Walks  Years  CAtBat  CHits  CHmRun  CRuns  \\\n",
       "0    401    92     17    49   66     65     13    5206   1332     253    784   \n",
       "1    574   159     21   107   75     59     10    4631   1300      90    702   \n",
       "2    202    53      4    31   26     27      9    1876    467      15    192   \n",
       "3    418   113     13    48   61     47      4    1512    392      41    205   \n",
       "4    239    60      0    30   11     22      6    1941    510       4    309   \n",
       "\n",
       "   CRBI  CWalks  PutOuts  Assists  Errors    Salary  New_HitRate  New_AtBat  \\\n",
       "0   890     866        0        0       0  1100.000     3.908408  12.982544   \n",
       "1   504     488      238      445      22   517.143     3.562308   8.067944   \n",
       "2   186     161      304       45      11   512.500     4.017131   9.287129   \n",
       "3   204     203      211       11       7   550.000     3.857143   3.617225   \n",
       "4   103     207      121      151       6   700.000     3.805882   8.121339   \n",
       "\n",
       "     New_RBI  New_Walks   New_Hits  New_HmRun   New_Runs  New_ChmrunRate  \\\n",
       "0  13.484848  13.323077  14.478261  14.882353  16.000000        0.189940   \n",
       "1   6.720000   8.271186   8.176101   4.285714   6.560748        0.069231   \n",
       "2   7.153846   5.962963   8.811321   3.750000   6.193548        0.032120   \n",
       "3   3.344262   4.319149   3.469027   3.153846   4.270833        0.104592   \n",
       "4   9.363636   9.409091   8.500000        inf  10.300000        0.007843   \n",
       "\n",
       "    New_Cat  New_Assist  CAtBat/Years  CHits/Years  CHmRun/Years  \\\n",
       "0  6.640306         inf    400.461538   102.461538     19.461538   \n",
       "1  6.596866    0.357303    463.100000   130.000000      9.000000   \n",
       "2  9.770833    1.177778    208.444444    51.888889      1.666667   \n",
       "3  7.375610   10.272727    378.000000    98.000000     10.250000   \n",
       "4  6.281553    0.397351    323.500000    85.000000      0.666667   \n",
       "\n",
       "   Assists/Errors  AtBat/PutOuts  Walks/Years  League_N  Division_W  \\\n",
       "0             NaN            inf    65.000000         0           0   \n",
       "1       20.227273       2.411765     4.214286         0           0   \n",
       "2        4.090909       0.664474     9.000000         1           1   \n",
       "3        1.571429       1.981043     4.272727         1           0   \n",
       "4       25.166667       1.975207    11.000000         0           0   \n",
       "\n",
       "   NewLeague_N  Experience_2  Experience_3  Experience_4  CRBI_bins_2  \\\n",
       "0            0             0             1             0            0   \n",
       "1            0             1             0             0            0   \n",
       "2            1             1             0             0            0   \n",
       "3            1             0             0             0            0   \n",
       "4            0             1             0             0            0   \n",
       "\n",
       "   CRBI_bins_3  CRBI_bins_4  \n",
       "0            0            0  \n",
       "1            0            0  \n",
       "2            0            0  \n",
       "3            1            0  \n",
       "4            0            0  "
      ]
     },
     "execution_count": 49,
     "metadata": {},
     "output_type": "execute_result"
    }
   ],
   "source": [
    "df1.head()"
   ]
  },
  {
   "cell_type": "code",
   "execution_count": 50,
   "metadata": {},
   "outputs": [],
   "source": [
    "df1 = df1.replace([np.inf, -np.inf], np.nan)\n",
    "df1 = df1.dropna()"
   ]
  },
  {
   "cell_type": "code",
   "execution_count": 51,
   "metadata": {},
   "outputs": [],
   "source": [
    "from sklearn.preprocessing import StandardScaler, MinMaxScaler\n",
    "\n",
    "std_scaler = StandardScaler()\n",
    "min_max_scaler = MinMaxScaler()\n",
    "\n",
    "df1[num_features] = std_scaler.fit_transform(df1[num_features])"
   ]
  },
  {
   "cell_type": "code",
   "execution_count": 52,
   "metadata": {},
   "outputs": [],
   "source": [
    "y = df1[\"Salary\"]\n",
    "X = df1.drop('Salary', axis=1)"
   ]
  },
  {
   "cell_type": "code",
   "execution_count": 53,
   "metadata": {},
   "outputs": [],
   "source": [
    "from sklearn.feature_selection import RFECV #Feature ranking with recursive feature elimination and cross-validated selection of the best number of features.\n",
    "from sklearn.ensemble import RandomForestRegressor\n",
    "\n",
    "def select_features(X,y):\n",
    "    # numerik olmayan degiskenlerin silinmesi\n",
    "    X = X.select_dtypes([np.number]).dropna(axis=1)\n",
    "    \n",
    "    clf = RandomForestRegressor(random_state=46)\n",
    "    clf.fit(X, y)\n",
    "    \n",
    "    selector = RFECV(clf,cv=10)\n",
    "    selector.fit(X, y)\n",
    "    \n",
    "    features = pd.DataFrame()\n",
    "    features['Feature'] = X.columns\n",
    "    features['Importance'] = clf.feature_importances_\n",
    "    features.sort_values(by=['Importance'], ascending=False, inplace=True)\n",
    "    features.set_index('Feature', inplace=True)\n",
    "    features.plot(kind='bar', figsize=(12, 5))\n",
    "    \n",
    "    \n",
    "    best_columns = list(X.columns[selector.support_])\n",
    "    print(\"Best Columns \\n\"+\"-\"*12+\"\\n{}\\n\".format(best_columns))\n",
    "    \n",
    "    return best_columns"
   ]
  },
  {
   "cell_type": "code",
   "execution_count": 54,
   "metadata": {},
   "outputs": [
    {
     "name": "stdout",
     "output_type": "stream",
     "text": [
      "Best Columns \n",
      "------------\n",
      "['AtBat', 'Hits', 'HmRun', 'Runs', 'RBI', 'Walks', 'Years', 'CAtBat', 'CHits', 'CHmRun', 'CRuns', 'CRBI', 'CWalks', 'PutOuts', 'Assists', 'Errors', 'New_HitRate', 'New_AtBat', 'New_RBI', 'New_Walks', 'New_Hits', 'New_HmRun', 'New_Runs', 'New_ChmrunRate', 'New_Cat', 'New_Assist', 'CAtBat/Years', 'CHits/Years', 'CHmRun/Years', 'Assists/Errors', 'AtBat/PutOuts', 'Walks/Years', 'NewLeague_N', 'Experience_3', 'CRBI_bins_2']\n",
      "\n"
     ]
    },
    {
     "data": {
      "text/plain": [
       "['AtBat',\n",
       " 'Hits',\n",
       " 'HmRun',\n",
       " 'Runs',\n",
       " 'RBI',\n",
       " 'Walks',\n",
       " 'Years',\n",
       " 'CAtBat',\n",
       " 'CHits',\n",
       " 'CHmRun',\n",
       " 'CRuns',\n",
       " 'CRBI',\n",
       " 'CWalks',\n",
       " 'PutOuts',\n",
       " 'Assists',\n",
       " 'Errors',\n",
       " 'New_HitRate',\n",
       " 'New_AtBat',\n",
       " 'New_RBI',\n",
       " 'New_Walks',\n",
       " 'New_Hits',\n",
       " 'New_HmRun',\n",
       " 'New_Runs',\n",
       " 'New_ChmrunRate',\n",
       " 'New_Cat',\n",
       " 'New_Assist',\n",
       " 'CAtBat/Years',\n",
       " 'CHits/Years',\n",
       " 'CHmRun/Years',\n",
       " 'Assists/Errors',\n",
       " 'AtBat/PutOuts',\n",
       " 'Walks/Years',\n",
       " 'NewLeague_N',\n",
       " 'Experience_3',\n",
       " 'CRBI_bins_2']"
      ]
     },
     "execution_count": 54,
     "metadata": {},
     "output_type": "execute_result"
    },
    {
     "data": {
      "image/png": "[encoded data removed]",
      "text/plain": [
       "<Figure size 864x360 with 1 Axes>"
      ]
     },
     "metadata": {
      "needs_background": "light"
     },
     "output_type": "display_data"
    }
   ],
   "source": [
    "best_features = select_features(X,y)\n",
    "best_features"
   ]
  },
  {
   "cell_type": "code",
   "execution_count": 55,
   "metadata": {},
   "outputs": [
    {
     "data": {
      "text/html": [
       "<div>\n",
       "<style scoped>\n",
       "    .dataframe tbody tr th:only-of-type {\n",
       "        vertical-align: middle;\n",
       "    }\n",
       "\n",
       "    .dataframe tbody tr th {\n",
       "        vertical-align: top;\n",
       "    }\n",
       "\n",
       "    .dataframe thead th {\n",
       "        text-align: right;\n",
       "    }\n",
       "</style>\n",
       "<table border=\"1\" class=\"dataframe\">\n",
       "  <thead>\n",
       "    <tr style=\"text-align: right;\">\n",
       "      <th></th>\n",
       "      <th>AtBat</th>\n",
       "      <th>Hits</th>\n",
       "      <th>HmRun</th>\n",
       "      <th>Runs</th>\n",
       "      <th>RBI</th>\n",
       "      <th>Walks</th>\n",
       "      <th>Years</th>\n",
       "      <th>CAtBat</th>\n",
       "      <th>CHits</th>\n",
       "      <th>CHmRun</th>\n",
       "      <th>CRuns</th>\n",
       "      <th>CRBI</th>\n",
       "      <th>CWalks</th>\n",
       "      <th>PutOuts</th>\n",
       "      <th>Assists</th>\n",
       "      <th>Errors</th>\n",
       "      <th>New_HitRate</th>\n",
       "      <th>New_AtBat</th>\n",
       "      <th>New_RBI</th>\n",
       "      <th>New_Walks</th>\n",
       "      <th>New_Hits</th>\n",
       "      <th>New_HmRun</th>\n",
       "      <th>New_Runs</th>\n",
       "      <th>New_ChmrunRate</th>\n",
       "      <th>New_Cat</th>\n",
       "      <th>New_Assist</th>\n",
       "      <th>CAtBat/Years</th>\n",
       "      <th>CHits/Years</th>\n",
       "      <th>CHmRun/Years</th>\n",
       "      <th>Assists/Errors</th>\n",
       "      <th>AtBat/PutOuts</th>\n",
       "      <th>Walks/Years</th>\n",
       "      <th>League_N</th>\n",
       "      <th>Division_W</th>\n",
       "      <th>NewLeague_N</th>\n",
       "      <th>Experience_2</th>\n",
       "      <th>Experience_3</th>\n",
       "      <th>Experience_4</th>\n",
       "      <th>CRBI_bins_2</th>\n",
       "      <th>CRBI_bins_3</th>\n",
       "      <th>CRBI_bins_4</th>\n",
       "    </tr>\n",
       "  </thead>\n",
       "  <tbody>\n",
       "    <tr>\n",
       "      <th>1</th>\n",
       "      <td>1.105601</td>\n",
       "      <td>1.066464</td>\n",
       "      <td>1.048557</td>\n",
       "      <td>1.991573</td>\n",
       "      <td>0.862335</td>\n",
       "      <td>0.821728</td>\n",
       "      <td>0.632502</td>\n",
       "      <td>0.961472</td>\n",
       "      <td>0.992344</td>\n",
       "      <td>0.310117</td>\n",
       "      <td>1.158296</td>\n",
       "      <td>0.601538</td>\n",
       "      <td>0.982853</td>\n",
       "      <td>-0.254693</td>\n",
       "      <td>2.225378</td>\n",
       "      <td>2.030432</td>\n",
       "      <td>-0.765653</td>\n",
       "      <td>0.169831</td>\n",
       "      <td>0.042483</td>\n",
       "      <td>0.169015</td>\n",
       "      <td>0.159884</td>\n",
       "      <td>-0.271045</td>\n",
       "      <td>-0.044078</td>\n",
       "      <td>-0.451153</td>\n",
       "      <td>-0.832352</td>\n",
       "      <td>-0.611089</td>\n",
       "      <td>0.981023</td>\n",
       "      <td>1.015960</td>\n",
       "      <td>0.053230</td>\n",
       "      <td>0.495189</td>\n",
       "      <td>0.119643</td>\n",
       "      <td>-0.471930</td>\n",
       "      <td>0</td>\n",
       "      <td>0</td>\n",
       "      <td>0</td>\n",
       "      <td>1</td>\n",
       "      <td>0</td>\n",
       "      <td>0</td>\n",
       "      <td>0</td>\n",
       "      <td>0</td>\n",
       "      <td>0</td>\n",
       "    </tr>\n",
       "    <tr>\n",
       "      <th>2</th>\n",
       "      <td>-1.447369</td>\n",
       "      <td>-1.280990</td>\n",
       "      <td>-0.924426</td>\n",
       "      <td>-1.003840</td>\n",
       "      <td>-1.030267</td>\n",
       "      <td>-0.689873</td>\n",
       "      <td>0.412085</td>\n",
       "      <td>-0.336671</td>\n",
       "      <td>-0.396867</td>\n",
       "      <td>-0.686439</td>\n",
       "      <td>-0.524719</td>\n",
       "      <td>-0.445674</td>\n",
       "      <td>-0.366034</td>\n",
       "      <td>-0.019949</td>\n",
       "      <td>-0.527321</td>\n",
       "      <td>0.318101</td>\n",
       "      <td>0.581296</td>\n",
       "      <td>0.336315</td>\n",
       "      <td>0.108009</td>\n",
       "      <td>-0.087532</td>\n",
       "      <td>0.242422</td>\n",
       "      <td>-0.353573</td>\n",
       "      <td>-0.091442</td>\n",
       "      <td>-1.096786</td>\n",
       "      <td>1.286916</td>\n",
       "      <td>-0.548036</td>\n",
       "      <td>-1.031427</td>\n",
       "      <td>-1.024415</td>\n",
       "      <td>-1.089483</td>\n",
       "      <td>-0.542983</td>\n",
       "      <td>-0.899563</td>\n",
       "      <td>-0.039052</td>\n",
       "      <td>1</td>\n",
       "      <td>1</td>\n",
       "      <td>1</td>\n",
       "      <td>1</td>\n",
       "      <td>0</td>\n",
       "      <td>0</td>\n",
       "      <td>0</td>\n",
       "      <td>0</td>\n",
       "      <td>0</td>\n",
       "    </tr>\n",
       "    <tr>\n",
       "      <th>3</th>\n",
       "      <td>0.035000</td>\n",
       "      <td>0.047758</td>\n",
       "      <td>0.120095</td>\n",
       "      <td>-0.333814</td>\n",
       "      <td>0.321591</td>\n",
       "      <td>0.254877</td>\n",
       "      <td>-0.690002</td>\n",
       "      <td>-0.508186</td>\n",
       "      <td>-0.521946</td>\n",
       "      <td>-0.340967</td>\n",
       "      <td>-0.481819</td>\n",
       "      <td>-0.386397</td>\n",
       "      <td>-0.192783</td>\n",
       "      <td>-0.350725</td>\n",
       "      <td>-0.761301</td>\n",
       "      <td>-0.304565</td>\n",
       "      <td>0.107496</td>\n",
       "      <td>-0.437930</td>\n",
       "      <td>-0.467369</td>\n",
       "      <td>-0.270234</td>\n",
       "      <td>-0.451734</td>\n",
       "      <td>-0.445412</td>\n",
       "      <td>-0.339448</td>\n",
       "      <td>0.164038</td>\n",
       "      <td>-0.312382</td>\n",
       "      <td>0.150910</td>\n",
       "      <td>0.308509</td>\n",
       "      <td>0.180074</td>\n",
       "      <td>0.248010</td>\n",
       "      <td>-0.705080</td>\n",
       "      <td>-0.131600</td>\n",
       "      <td>-0.466644</td>\n",
       "      <td>1</td>\n",
       "      <td>0</td>\n",
       "      <td>1</td>\n",
       "      <td>0</td>\n",
       "      <td>0</td>\n",
       "      <td>0</td>\n",
       "      <td>0</td>\n",
       "      <td>1</td>\n",
       "      <td>0</td>\n",
       "    </tr>\n",
       "    <tr>\n",
       "      <th>5</th>\n",
       "      <td>-1.488546</td>\n",
       "      <td>-1.502448</td>\n",
       "      <td>-0.576252</td>\n",
       "      <td>-1.082667</td>\n",
       "      <td>-0.991643</td>\n",
       "      <td>-0.548161</td>\n",
       "      <td>1.293754</td>\n",
       "      <td>0.301798</td>\n",
       "      <td>0.200177</td>\n",
       "      <td>-0.407404</td>\n",
       "      <td>0.082486</td>\n",
       "      <td>-0.103189</td>\n",
       "      <td>-0.048406</td>\n",
       "      <td>-0.816657</td>\n",
       "      <td>-0.527321</td>\n",
       "      <td>-0.148898</td>\n",
       "      <td>0.282877</td>\n",
       "      <td>1.319168</td>\n",
       "      <td>0.649752</td>\n",
       "      <td>0.131465</td>\n",
       "      <td>1.590471</td>\n",
       "      <td>-0.138999</td>\n",
       "      <td>0.782054</td>\n",
       "      <td>-0.896430</td>\n",
       "      <td>0.500530</td>\n",
       "      <td>-0.565114</td>\n",
       "      <td>-0.714579</td>\n",
       "      <td>-0.722121</td>\n",
       "      <td>-0.917676</td>\n",
       "      <td>-0.444284</td>\n",
       "      <td>0.141946</td>\n",
       "      <td>-0.606433</td>\n",
       "      <td>1</td>\n",
       "      <td>0</td>\n",
       "      <td>1</td>\n",
       "      <td>0</td>\n",
       "      <td>1</td>\n",
       "      <td>0</td>\n",
       "      <td>0</td>\n",
       "      <td>0</td>\n",
       "      <td>0</td>\n",
       "    </tr>\n",
       "    <tr>\n",
       "      <th>6</th>\n",
       "      <td>1.064424</td>\n",
       "      <td>1.044319</td>\n",
       "      <td>0.932499</td>\n",
       "      <td>1.282133</td>\n",
       "      <td>0.862335</td>\n",
       "      <td>1.483053</td>\n",
       "      <td>1.734589</td>\n",
       "      <td>2.580969</td>\n",
       "      <td>2.615036</td>\n",
       "      <td>1.466122</td>\n",
       "      <td>2.290207</td>\n",
       "      <td>2.211874</td>\n",
       "      <td>1.989362</td>\n",
       "      <td>-0.727738</td>\n",
       "      <td>1.158707</td>\n",
       "      <td>0.162435</td>\n",
       "      <td>-0.803600</td>\n",
       "      <td>1.007762</td>\n",
       "      <td>1.027226</td>\n",
       "      <td>0.364210</td>\n",
       "      <td>0.966782</td>\n",
       "      <td>0.432096</td>\n",
       "      <td>0.624181</td>\n",
       "      <td>-0.300842</td>\n",
       "      <td>-0.082048</td>\n",
       "      <td>-0.596678</td>\n",
       "      <td>1.571877</td>\n",
       "      <td>1.578441</td>\n",
       "      <td>0.489538</td>\n",
       "      <td>1.059604</td>\n",
       "      <td>1.868254</td>\n",
       "      <td>2.448382</td>\n",
       "      <td>1</td>\n",
       "      <td>1</td>\n",
       "      <td>1</td>\n",
       "      <td>0</td>\n",
       "      <td>1</td>\n",
       "      <td>0</td>\n",
       "      <td>0</td>\n",
       "      <td>0</td>\n",
       "      <td>0</td>\n",
       "    </tr>\n",
       "  </tbody>\n",
       "</table>\n",
       "</div>"
      ],
      "text/plain": [
       "      AtBat      Hits     HmRun      Runs       RBI     Walks     Years  \\\n",
       "1  1.105601  1.066464  1.048557  1.991573  0.862335  0.821728  0.632502   \n",
       "2 -1.447369 -1.280990 -0.924426 -1.003840 -1.030267 -0.689873  0.412085   \n",
       "3  0.035000  0.047758  0.120095 -0.333814  0.321591  0.254877 -0.690002   \n",
       "5 -1.488546 -1.502448 -0.576252 -1.082667 -0.991643 -0.548161  1.293754   \n",
       "6  1.064424  1.044319  0.932499  1.282133  0.862335  1.483053  1.734589   \n",
       "\n",
       "     CAtBat     CHits    CHmRun     CRuns      CRBI    CWalks   PutOuts  \\\n",
       "1  0.961472  0.992344  0.310117  1.158296  0.601538  0.982853 -0.254693   \n",
       "2 -0.336671 -0.396867 -0.686439 -0.524719 -0.445674 -0.366034 -0.019949   \n",
       "3 -0.508186 -0.521946 -0.340967 -0.481819 -0.386397 -0.192783 -0.350725   \n",
       "5  0.301798  0.200177 -0.407404  0.082486 -0.103189 -0.048406 -0.816657   \n",
       "6  2.580969  2.615036  1.466122  2.290207  2.211874  1.989362 -0.727738   \n",
       "\n",
       "    Assists    Errors  New_HitRate  New_AtBat   New_RBI  New_Walks  New_Hits  \\\n",
       "1  2.225378  2.030432    -0.765653   0.169831  0.042483   0.169015  0.159884   \n",
       "2 -0.527321  0.318101     0.581296   0.336315  0.108009  -0.087532  0.242422   \n",
       "3 -0.761301 -0.304565     0.107496  -0.437930 -0.467369  -0.270234 -0.451734   \n",
       "5 -0.527321 -0.148898     0.282877   1.319168  0.649752   0.131465  1.590471   \n",
       "6  1.158707  0.162435    -0.803600   1.007762  1.027226   0.364210  0.966782   \n",
       "\n",
       "   New_HmRun  New_Runs  New_ChmrunRate   New_Cat  New_Assist  CAtBat/Years  \\\n",
       "1  -0.271045 -0.044078       -0.451153 -0.832352   -0.611089      0.981023   \n",
       "2  -0.353573 -0.091442       -1.096786  1.286916   -0.548036     -1.031427   \n",
       "3  -0.445412 -0.339448        0.164038 -0.312382    0.150910      0.308509   \n",
       "5  -0.138999  0.782054       -0.896430  0.500530   -0.565114     -0.714579   \n",
       "6   0.432096  0.624181       -0.300842 -0.082048   -0.596678      1.571877   \n",
       "\n",
       "   CHits/Years  CHmRun/Years  Assists/Errors  AtBat/PutOuts  Walks/Years  \\\n",
       "1     1.015960      0.053230        0.495189       0.119643    -0.471930   \n",
       "2    -1.024415     -1.089483       -0.542983      -0.899563    -0.039052   \n",
       "3     0.180074      0.248010       -0.705080      -0.131600    -0.466644   \n",
       "5    -0.722121     -0.917676       -0.444284       0.141946    -0.606433   \n",
       "6     1.578441      0.489538        1.059604       1.868254     2.448382   \n",
       "\n",
       "   League_N  Division_W  NewLeague_N  Experience_2  Experience_3  \\\n",
       "1         0           0            0             1             0   \n",
       "2         1           1            1             1             0   \n",
       "3         1           0            1             0             0   \n",
       "5         1           0            1             0             1   \n",
       "6         1           1            1             0             1   \n",
       "\n",
       "   Experience_4  CRBI_bins_2  CRBI_bins_3  CRBI_bins_4  \n",
       "1             0            0            0            0  \n",
       "2             0            0            0            0  \n",
       "3             0            0            1            0  \n",
       "5             0            0            0            0  \n",
       "6             0            0            0            0  "
      ]
     },
     "execution_count": 55,
     "metadata": {},
     "output_type": "execute_result"
    }
   ],
   "source": [
    "X.head()"
   ]
  },
  {
   "cell_type": "markdown",
   "metadata": {},
   "source": [
    " # **KNN**"
   ]
  },
  {
   "cell_type": "code",
   "execution_count": 57,
   "metadata": {},
   "outputs": [],
   "source": [
    "from sklearn.model_selection import train_test_split, GridSearchCV\n",
    "from sklearn.metrics import mean_squared_error, r2_score\n",
    "import matplotlib.pyplot as plt\n",
    "from sklearn.preprocessing import scale \n",
    "from sklearn.preprocessing import StandardScaler\n",
    "from sklearn import model_selection\n",
    "from sklearn.linear_model import LinearRegression\n",
    "from sklearn.tree import DecisionTreeRegressor\n",
    "from sklearn.neighbors import KNeighborsRegressor\n",
    "from sklearn.neural_network import MLPRegressor\n",
    "from sklearn.ensemble import RandomForestRegressor\n",
    "from sklearn.ensemble import GradientBoostingRegressor\n",
    "from sklearn import neighbors\n",
    "from sklearn.svm import SVR\n",
    "\n",
    "from warnings import filterwarnings\n",
    "filterwarnings('ignore')"
   ]
  },
  {
   "cell_type": "code",
   "execution_count": 58,
   "metadata": {},
   "outputs": [],
   "source": [
    "y = df1[\"Salary\"]\n",
    "X = df1.drop('Salary', axis=1)"
   ]
  },
  {
   "cell_type": "code",
   "execution_count": 59,
   "metadata": {},
   "outputs": [],
   "source": [
    "X_train, X_test, y_train, y_test = train_test_split(X, \n",
    "                                                    y, \n",
    "                                                    test_size=0.20, \n",
    "                                                    random_state=46)"
   ]
  },
  {
   "cell_type": "code",
   "execution_count": 60,
   "metadata": {},
   "outputs": [
    {
     "data": {
      "text/html": [
       "<div>\n",
       "<style scoped>\n",
       "    .dataframe tbody tr th:only-of-type {\n",
       "        vertical-align: middle;\n",
       "    }\n",
       "\n",
       "    .dataframe tbody tr th {\n",
       "        vertical-align: top;\n",
       "    }\n",
       "\n",
       "    .dataframe thead th {\n",
       "        text-align: right;\n",
       "    }\n",
       "</style>\n",
       "<table border=\"1\" class=\"dataframe\">\n",
       "  <thead>\n",
       "    <tr style=\"text-align: right;\">\n",
       "      <th></th>\n",
       "      <th>AtBat</th>\n",
       "      <th>Hits</th>\n",
       "      <th>HmRun</th>\n",
       "      <th>Runs</th>\n",
       "      <th>RBI</th>\n",
       "      <th>Walks</th>\n",
       "      <th>Years</th>\n",
       "      <th>CAtBat</th>\n",
       "      <th>CHits</th>\n",
       "      <th>CHmRun</th>\n",
       "      <th>CRuns</th>\n",
       "      <th>CRBI</th>\n",
       "      <th>CWalks</th>\n",
       "      <th>PutOuts</th>\n",
       "      <th>Assists</th>\n",
       "      <th>Errors</th>\n",
       "      <th>New_HitRate</th>\n",
       "      <th>New_AtBat</th>\n",
       "      <th>New_RBI</th>\n",
       "      <th>New_Walks</th>\n",
       "      <th>New_Hits</th>\n",
       "      <th>New_HmRun</th>\n",
       "      <th>New_Runs</th>\n",
       "      <th>New_ChmrunRate</th>\n",
       "      <th>New_Cat</th>\n",
       "      <th>New_Assist</th>\n",
       "      <th>CAtBat/Years</th>\n",
       "      <th>CHits/Years</th>\n",
       "      <th>CHmRun/Years</th>\n",
       "      <th>Assists/Errors</th>\n",
       "      <th>AtBat/PutOuts</th>\n",
       "      <th>Walks/Years</th>\n",
       "      <th>League_N</th>\n",
       "      <th>Division_W</th>\n",
       "      <th>NewLeague_N</th>\n",
       "      <th>Experience_2</th>\n",
       "      <th>Experience_3</th>\n",
       "      <th>Experience_4</th>\n",
       "      <th>CRBI_bins_2</th>\n",
       "      <th>CRBI_bins_3</th>\n",
       "      <th>CRBI_bins_4</th>\n",
       "    </tr>\n",
       "  </thead>\n",
       "  <tbody>\n",
       "    <tr>\n",
       "      <th>1</th>\n",
       "      <td>1.105601</td>\n",
       "      <td>1.066464</td>\n",
       "      <td>1.048557</td>\n",
       "      <td>1.991573</td>\n",
       "      <td>0.862335</td>\n",
       "      <td>0.821728</td>\n",
       "      <td>0.632502</td>\n",
       "      <td>0.961472</td>\n",
       "      <td>0.992344</td>\n",
       "      <td>0.310117</td>\n",
       "      <td>1.158296</td>\n",
       "      <td>0.601538</td>\n",
       "      <td>0.982853</td>\n",
       "      <td>-0.254693</td>\n",
       "      <td>2.225378</td>\n",
       "      <td>2.030432</td>\n",
       "      <td>-0.765653</td>\n",
       "      <td>0.169831</td>\n",
       "      <td>0.042483</td>\n",
       "      <td>0.169015</td>\n",
       "      <td>0.159884</td>\n",
       "      <td>-0.271045</td>\n",
       "      <td>-0.044078</td>\n",
       "      <td>-0.451153</td>\n",
       "      <td>-0.832352</td>\n",
       "      <td>-0.611089</td>\n",
       "      <td>0.981023</td>\n",
       "      <td>1.015960</td>\n",
       "      <td>0.053230</td>\n",
       "      <td>0.495189</td>\n",
       "      <td>0.119643</td>\n",
       "      <td>-0.471930</td>\n",
       "      <td>0</td>\n",
       "      <td>0</td>\n",
       "      <td>0</td>\n",
       "      <td>1</td>\n",
       "      <td>0</td>\n",
       "      <td>0</td>\n",
       "      <td>0</td>\n",
       "      <td>0</td>\n",
       "      <td>0</td>\n",
       "    </tr>\n",
       "    <tr>\n",
       "      <th>2</th>\n",
       "      <td>-1.447369</td>\n",
       "      <td>-1.280990</td>\n",
       "      <td>-0.924426</td>\n",
       "      <td>-1.003840</td>\n",
       "      <td>-1.030267</td>\n",
       "      <td>-0.689873</td>\n",
       "      <td>0.412085</td>\n",
       "      <td>-0.336671</td>\n",
       "      <td>-0.396867</td>\n",
       "      <td>-0.686439</td>\n",
       "      <td>-0.524719</td>\n",
       "      <td>-0.445674</td>\n",
       "      <td>-0.366034</td>\n",
       "      <td>-0.019949</td>\n",
       "      <td>-0.527321</td>\n",
       "      <td>0.318101</td>\n",
       "      <td>0.581296</td>\n",
       "      <td>0.336315</td>\n",
       "      <td>0.108009</td>\n",
       "      <td>-0.087532</td>\n",
       "      <td>0.242422</td>\n",
       "      <td>-0.353573</td>\n",
       "      <td>-0.091442</td>\n",
       "      <td>-1.096786</td>\n",
       "      <td>1.286916</td>\n",
       "      <td>-0.548036</td>\n",
       "      <td>-1.031427</td>\n",
       "      <td>-1.024415</td>\n",
       "      <td>-1.089483</td>\n",
       "      <td>-0.542983</td>\n",
       "      <td>-0.899563</td>\n",
       "      <td>-0.039052</td>\n",
       "      <td>1</td>\n",
       "      <td>1</td>\n",
       "      <td>1</td>\n",
       "      <td>1</td>\n",
       "      <td>0</td>\n",
       "      <td>0</td>\n",
       "      <td>0</td>\n",
       "      <td>0</td>\n",
       "      <td>0</td>\n",
       "    </tr>\n",
       "    <tr>\n",
       "      <th>3</th>\n",
       "      <td>0.035000</td>\n",
       "      <td>0.047758</td>\n",
       "      <td>0.120095</td>\n",
       "      <td>-0.333814</td>\n",
       "      <td>0.321591</td>\n",
       "      <td>0.254877</td>\n",
       "      <td>-0.690002</td>\n",
       "      <td>-0.508186</td>\n",
       "      <td>-0.521946</td>\n",
       "      <td>-0.340967</td>\n",
       "      <td>-0.481819</td>\n",
       "      <td>-0.386397</td>\n",
       "      <td>-0.192783</td>\n",
       "      <td>-0.350725</td>\n",
       "      <td>-0.761301</td>\n",
       "      <td>-0.304565</td>\n",
       "      <td>0.107496</td>\n",
       "      <td>-0.437930</td>\n",
       "      <td>-0.467369</td>\n",
       "      <td>-0.270234</td>\n",
       "      <td>-0.451734</td>\n",
       "      <td>-0.445412</td>\n",
       "      <td>-0.339448</td>\n",
       "      <td>0.164038</td>\n",
       "      <td>-0.312382</td>\n",
       "      <td>0.150910</td>\n",
       "      <td>0.308509</td>\n",
       "      <td>0.180074</td>\n",
       "      <td>0.248010</td>\n",
       "      <td>-0.705080</td>\n",
       "      <td>-0.131600</td>\n",
       "      <td>-0.466644</td>\n",
       "      <td>1</td>\n",
       "      <td>0</td>\n",
       "      <td>1</td>\n",
       "      <td>0</td>\n",
       "      <td>0</td>\n",
       "      <td>0</td>\n",
       "      <td>0</td>\n",
       "      <td>1</td>\n",
       "      <td>0</td>\n",
       "    </tr>\n",
       "    <tr>\n",
       "      <th>5</th>\n",
       "      <td>-1.488546</td>\n",
       "      <td>-1.502448</td>\n",
       "      <td>-0.576252</td>\n",
       "      <td>-1.082667</td>\n",
       "      <td>-0.991643</td>\n",
       "      <td>-0.548161</td>\n",
       "      <td>1.293754</td>\n",
       "      <td>0.301798</td>\n",
       "      <td>0.200177</td>\n",
       "      <td>-0.407404</td>\n",
       "      <td>0.082486</td>\n",
       "      <td>-0.103189</td>\n",
       "      <td>-0.048406</td>\n",
       "      <td>-0.816657</td>\n",
       "      <td>-0.527321</td>\n",
       "      <td>-0.148898</td>\n",
       "      <td>0.282877</td>\n",
       "      <td>1.319168</td>\n",
       "      <td>0.649752</td>\n",
       "      <td>0.131465</td>\n",
       "      <td>1.590471</td>\n",
       "      <td>-0.138999</td>\n",
       "      <td>0.782054</td>\n",
       "      <td>-0.896430</td>\n",
       "      <td>0.500530</td>\n",
       "      <td>-0.565114</td>\n",
       "      <td>-0.714579</td>\n",
       "      <td>-0.722121</td>\n",
       "      <td>-0.917676</td>\n",
       "      <td>-0.444284</td>\n",
       "      <td>0.141946</td>\n",
       "      <td>-0.606433</td>\n",
       "      <td>1</td>\n",
       "      <td>0</td>\n",
       "      <td>1</td>\n",
       "      <td>0</td>\n",
       "      <td>1</td>\n",
       "      <td>0</td>\n",
       "      <td>0</td>\n",
       "      <td>0</td>\n",
       "      <td>0</td>\n",
       "    </tr>\n",
       "    <tr>\n",
       "      <th>6</th>\n",
       "      <td>1.064424</td>\n",
       "      <td>1.044319</td>\n",
       "      <td>0.932499</td>\n",
       "      <td>1.282133</td>\n",
       "      <td>0.862335</td>\n",
       "      <td>1.483053</td>\n",
       "      <td>1.734589</td>\n",
       "      <td>2.580969</td>\n",
       "      <td>2.615036</td>\n",
       "      <td>1.466122</td>\n",
       "      <td>2.290207</td>\n",
       "      <td>2.211874</td>\n",
       "      <td>1.989362</td>\n",
       "      <td>-0.727738</td>\n",
       "      <td>1.158707</td>\n",
       "      <td>0.162435</td>\n",
       "      <td>-0.803600</td>\n",
       "      <td>1.007762</td>\n",
       "      <td>1.027226</td>\n",
       "      <td>0.364210</td>\n",
       "      <td>0.966782</td>\n",
       "      <td>0.432096</td>\n",
       "      <td>0.624181</td>\n",
       "      <td>-0.300842</td>\n",
       "      <td>-0.082048</td>\n",
       "      <td>-0.596678</td>\n",
       "      <td>1.571877</td>\n",
       "      <td>1.578441</td>\n",
       "      <td>0.489538</td>\n",
       "      <td>1.059604</td>\n",
       "      <td>1.868254</td>\n",
       "      <td>2.448382</td>\n",
       "      <td>1</td>\n",
       "      <td>1</td>\n",
       "      <td>1</td>\n",
       "      <td>0</td>\n",
       "      <td>1</td>\n",
       "      <td>0</td>\n",
       "      <td>0</td>\n",
       "      <td>0</td>\n",
       "      <td>0</td>\n",
       "    </tr>\n",
       "  </tbody>\n",
       "</table>\n",
       "</div>"
      ],
      "text/plain": [
       "      AtBat      Hits     HmRun      Runs       RBI     Walks     Years  \\\n",
       "1  1.105601  1.066464  1.048557  1.991573  0.862335  0.821728  0.632502   \n",
       "2 -1.447369 -1.280990 -0.924426 -1.003840 -1.030267 -0.689873  0.412085   \n",
       "3  0.035000  0.047758  0.120095 -0.333814  0.321591  0.254877 -0.690002   \n",
       "5 -1.488546 -1.502448 -0.576252 -1.082667 -0.991643 -0.548161  1.293754   \n",
       "6  1.064424  1.044319  0.932499  1.282133  0.862335  1.483053  1.734589   \n",
       "\n",
       "     CAtBat     CHits    CHmRun     CRuns      CRBI    CWalks   PutOuts  \\\n",
       "1  0.961472  0.992344  0.310117  1.158296  0.601538  0.982853 -0.254693   \n",
       "2 -0.336671 -0.396867 -0.686439 -0.524719 -0.445674 -0.366034 -0.019949   \n",
       "3 -0.508186 -0.521946 -0.340967 -0.481819 -0.386397 -0.192783 -0.350725   \n",
       "5  0.301798  0.200177 -0.407404  0.082486 -0.103189 -0.048406 -0.816657   \n",
       "6  2.580969  2.615036  1.466122  2.290207  2.211874  1.989362 -0.727738   \n",
       "\n",
       "    Assists    Errors  New_HitRate  New_AtBat   New_RBI  New_Walks  New_Hits  \\\n",
       "1  2.225378  2.030432    -0.765653   0.169831  0.042483   0.169015  0.159884   \n",
       "2 -0.527321  0.318101     0.581296   0.336315  0.108009  -0.087532  0.242422   \n",
       "3 -0.761301 -0.304565     0.107496  -0.437930 -0.467369  -0.270234 -0.451734   \n",
       "5 -0.527321 -0.148898     0.282877   1.319168  0.649752   0.131465  1.590471   \n",
       "6  1.158707  0.162435    -0.803600   1.007762  1.027226   0.364210  0.966782   \n",
       "\n",
       "   New_HmRun  New_Runs  New_ChmrunRate   New_Cat  New_Assist  CAtBat/Years  \\\n",
       "1  -0.271045 -0.044078       -0.451153 -0.832352   -0.611089      0.981023   \n",
       "2  -0.353573 -0.091442       -1.096786  1.286916   -0.548036     -1.031427   \n",
       "3  -0.445412 -0.339448        0.164038 -0.312382    0.150910      0.308509   \n",
       "5  -0.138999  0.782054       -0.896430  0.500530   -0.565114     -0.714579   \n",
       "6   0.432096  0.624181       -0.300842 -0.082048   -0.596678      1.571877   \n",
       "\n",
       "   CHits/Years  CHmRun/Years  Assists/Errors  AtBat/PutOuts  Walks/Years  \\\n",
       "1     1.015960      0.053230        0.495189       0.119643    -0.471930   \n",
       "2    -1.024415     -1.089483       -0.542983      -0.899563    -0.039052   \n",
       "3     0.180074      0.248010       -0.705080      -0.131600    -0.466644   \n",
       "5    -0.722121     -0.917676       -0.444284       0.141946    -0.606433   \n",
       "6     1.578441      0.489538        1.059604       1.868254     2.448382   \n",
       "\n",
       "   League_N  Division_W  NewLeague_N  Experience_2  Experience_3  \\\n",
       "1         0           0            0             1             0   \n",
       "2         1           1            1             1             0   \n",
       "3         1           0            1             0             0   \n",
       "5         1           0            1             0             1   \n",
       "6         1           1            1             0             1   \n",
       "\n",
       "   Experience_4  CRBI_bins_2  CRBI_bins_3  CRBI_bins_4  \n",
       "1             0            0            0            0  \n",
       "2             0            0            0            0  \n",
       "3             0            0            1            0  \n",
       "5             0            0            0            0  \n",
       "6             0            0            0            0  "
      ]
     },
     "execution_count": 60,
     "metadata": {},
     "output_type": "execute_result"
    }
   ],
   "source": [
    "X.head()"
   ]
  },
  {
   "cell_type": "code",
   "execution_count": 61,
   "metadata": {},
   "outputs": [
    {
     "data": {
      "text/plain": [
       "1    517.143\n",
       "2    512.500\n",
       "3    550.000\n",
       "5    240.000\n",
       "6    775.000\n",
       "Name: Salary, dtype: float64"
      ]
     },
     "execution_count": 61,
     "metadata": {},
     "output_type": "execute_result"
    }
   ],
   "source": [
    "y.head()"
   ]
  },
  {
   "cell_type": "code",
   "execution_count": 62,
   "metadata": {},
   "outputs": [],
   "source": [
    "knn_model = KNeighborsRegressor().fit(X_train, y_train)"
   ]
  },
  {
   "cell_type": "code",
   "execution_count": 63,
   "metadata": {},
   "outputs": [
    {
     "data": {
      "text/plain": [
       "244.85166731996708"
      ]
     },
     "execution_count": 63,
     "metadata": {},
     "output_type": "execute_result"
    }
   ],
   "source": [
    "y_pred = knn_model.predict(X_test)\n",
    "np.sqrt(mean_squared_error(y_test, y_pred))"
   ]
  },
  {
   "cell_type": "markdown",
   "metadata": {},
   "source": [
    "# **KNN MODEL TUNING**"
   ]
  },
  {
   "cell_type": "code",
   "execution_count": 64,
   "metadata": {},
   "outputs": [
    {
     "name": "stdout",
     "output_type": "stream",
     "text": [
      "k = 2 için RMSE değeri: 296.8996727696734\n",
      "k = 3 için RMSE değeri: 269.08251443427713\n",
      "k = 4 için RMSE değeri: 259.8045553907867\n",
      "k = 5 için RMSE değeri: 244.85166731996708\n",
      "k = 6 için RMSE değeri: 253.31236065979854\n",
      "k = 7 için RMSE değeri: 252.63416969278416\n",
      "k = 8 için RMSE değeri: 260.47560196346404\n",
      "k = 9 için RMSE değeri: 255.0291785190594\n",
      "k = 10 için RMSE değeri: 245.149264239505\n",
      "k = 11 için RMSE değeri: 237.76321828592717\n",
      "k = 12 için RMSE değeri: 239.59646159848762\n",
      "k = 13 için RMSE değeri: 237.80431567073765\n",
      "k = 14 için RMSE değeri: 235.86446485403036\n",
      "k = 15 için RMSE değeri: 234.50405360344055\n",
      "k = 16 için RMSE değeri: 238.0329951876632\n",
      "k = 17 için RMSE değeri: 240.09760488784843\n",
      "k = 18 için RMSE değeri: 234.66144244587917\n",
      "k = 19 için RMSE değeri: 235.8408097534354\n",
      "k = 20 için RMSE değeri: 232.83670912121116\n",
      "k = 21 için RMSE değeri: 231.36501529209937\n"
     ]
    }
   ],
   "source": [
    "RMSE = []\n",
    "\n",
    "for k in range(20):\n",
    "    k = k + 2\n",
    "    knn_model = KNeighborsRegressor(n_neighbors = k).fit(X_train, y_train)\n",
    "    y_pred = knn_model.predict(X_test)\n",
    "    rmse = np.sqrt(mean_squared_error(y_test, y_pred))\n",
    "    RMSE.append(rmse)\n",
    "    print(\"k =\", k, \"için RMSE değeri:\", rmse)"
   ]
  },
  {
   "cell_type": "code",
   "execution_count": 66,
   "metadata": {},
   "outputs": [],
   "source": [
    "knn_params = {\"n_neighbors\": np.arange(2,30,1)}\n",
    "\n",
    "knn_model = KNeighborsRegressor()\n",
    "\n",
    "knn_cv_model = GridSearchCV(knn_model, knn_params, cv = 10).fit(X_train, y_train)"
   ]
  },
  {
   "cell_type": "code",
   "execution_count": 67,
   "metadata": {},
   "outputs": [
    {
     "data": {
      "text/plain": [
       "{'n_neighbors': 6}"
      ]
     },
     "execution_count": 67,
     "metadata": {},
     "output_type": "execute_result"
    }
   ],
   "source": [
    "knn_cv_model.best_params_"
   ]
  },
  {
   "cell_type": "code",
   "execution_count": 68,
   "metadata": {},
   "outputs": [],
   "source": [
    "knn_tuned = KNeighborsRegressor(**knn_cv_model.best_params_).fit(X_train, y_train)"
   ]
  },
  {
   "cell_type": "markdown",
   "metadata": {},
   "source": [
    "# **SVR**"
   ]
  },
  {
   "cell_type": "code",
   "execution_count": 70,
   "metadata": {},
   "outputs": [],
   "source": [
    "svr_model = SVR(\"linear\").fit(X_train, y_train)"
   ]
  },
  {
   "cell_type": "code",
   "execution_count": 71,
   "metadata": {},
   "outputs": [
    {
     "data": {
      "text/plain": [
       "243.28673210261786"
      ]
     },
     "execution_count": 71,
     "metadata": {},
     "output_type": "execute_result"
    }
   ],
   "source": [
    "\n",
    "y_pred = svr_model.predict(X_test)\n",
    "np.sqrt(mean_squared_error(y_test, y_pred))"
   ]
  },
  {
   "cell_type": "code",
   "execution_count": 72,
   "metadata": {},
   "outputs": [],
   "source": [
    "y_pred = knn_tuned.predict(X_test)"
   ]
  },
  {
   "cell_type": "code",
   "execution_count": 73,
   "metadata": {},
   "outputs": [
    {
     "data": {
      "text/plain": [
       "253.31236065979854"
      ]
     },
     "execution_count": 73,
     "metadata": {},
     "output_type": "execute_result"
    }
   ],
   "source": [
    "np.sqrt(mean_squared_error(y_test, y_pred))"
   ]
  },
  {
   "cell_type": "markdown",
   "metadata": {},
   "source": [
    "# **SVR MODEL TUNING**"
   ]
  },
  {
   "cell_type": "code",
   "execution_count": 74,
   "metadata": {},
   "outputs": [
    {
     "name": "stdout",
     "output_type": "stream",
     "text": [
      "Fitting 5 folds for each of 8 candidates, totalling 40 fits\n"
     ]
    },
    {
     "name": "stderr",
     "output_type": "stream",
     "text": [
      "[Parallel(n_jobs=-1)]: Using backend LokyBackend with 4 concurrent workers.\n",
      "[Parallel(n_jobs=-1)]: Done  33 tasks      | elapsed:   40.9s\n",
      "[Parallel(n_jobs=-1)]: Done  40 out of  40 | elapsed:   41.0s finished\n"
     ]
    }
   ],
   "source": [
    "svr_model = SVR(\"linear\") \n",
    "\n",
    "svr_params = {\"C\": [0.01,0.001, 0.2, 0.1,0.5,0.8,0.9,1]}\n",
    "\n",
    "svr_cv_model = GridSearchCV(svr_model, svr_params, cv = 5, n_jobs = -1, verbose =  2).fit(X_train, y_train)"
   ]
  },
  {
   "cell_type": "code",
   "execution_count": 75,
   "metadata": {},
   "outputs": [
    {
     "data": {
      "text/plain": [
       "{'C': 1}"
      ]
     },
     "execution_count": 75,
     "metadata": {},
     "output_type": "execute_result"
    }
   ],
   "source": [
    "svr_cv_model.best_params_"
   ]
  },
  {
   "cell_type": "code",
   "execution_count": 78,
   "metadata": {},
   "outputs": [],
   "source": [
    "svr_tuned = SVR(\"linear\", C = 0.001).fit(X_train, y_train)"
   ]
  },
  {
   "cell_type": "code",
   "execution_count": 79,
   "metadata": {},
   "outputs": [
    {
     "data": {
      "text/plain": [
       "325.5609518359149"
      ]
     },
     "execution_count": 79,
     "metadata": {},
     "output_type": "execute_result"
    }
   ],
   "source": [
    "y_pred = svr_tuned.predict(X_test)\n",
    "np.sqrt(mean_squared_error(y_test, y_pred))"
   ]
  },
  {
   "cell_type": "code",
   "execution_count": 80,
   "metadata": {},
   "outputs": [
    {
     "name": "stdout",
     "output_type": "stream",
     "text": [
      "Fitting 5 folds for each of 12 candidates, totalling 60 fits\n"
     ]
    },
    {
     "name": "stderr",
     "output_type": "stream",
     "text": [
      "[Parallel(n_jobs=-1)]: Using backend LokyBackend with 4 concurrent workers.\n",
      "[Parallel(n_jobs=-1)]: Done  53 out of  60 | elapsed:    0.1s remaining:    0.0s\n",
      "[Parallel(n_jobs=-1)]: Done  60 out of  60 | elapsed:    0.1s finished\n"
     ]
    }
   ],
   "source": [
    "#nonlinear\n",
    "svr_model = SVR() \n",
    "\n",
    "svr_params = {\"C\": [0.01,0.001, 0.2, 0.1,0.5,0.8,0.9,1, 10, 100, 500,1000]}\n",
    "\n",
    "svr_cv_model = GridSearchCV(svr_model, svr_params, cv = 5, n_jobs = -1, verbose =  2).fit(X_train, y_train)"
   ]
  },
  {
   "cell_type": "code",
   "execution_count": 81,
   "metadata": {},
   "outputs": [
    {
     "data": {
      "text/plain": [
       "{'C': 1000}"
      ]
     },
     "execution_count": 81,
     "metadata": {},
     "output_type": "execute_result"
    }
   ],
   "source": [
    "svr_cv_model.best_params_"
   ]
  },
  {
   "cell_type": "code",
   "execution_count": 82,
   "metadata": {},
   "outputs": [],
   "source": [
    "svr_tuned = SVR(**svr_cv_model.best_params_).fit(X_train, y_train)"
   ]
  },
  {
   "cell_type": "code",
   "execution_count": 83,
   "metadata": {},
   "outputs": [
    {
     "data": {
      "text/plain": [
       "227.93881832387683"
      ]
     },
     "execution_count": 83,
     "metadata": {},
     "output_type": "execute_result"
    }
   ],
   "source": [
    "y_pred = svr_tuned.predict(X_test)\n",
    "np.sqrt(mean_squared_error(y_test, y_pred))"
   ]
  },
  {
   "cell_type": "markdown",
   "metadata": {},
   "source": [
    "# **Yapay Sinir Ağları**"
   ]
  },
  {
   "cell_type": "code",
   "execution_count": 84,
   "metadata": {},
   "outputs": [],
   "source": [
    "scaler = StandardScaler()"
   ]
  },
  {
   "cell_type": "code",
   "execution_count": 86,
   "metadata": {},
   "outputs": [],
   "source": [
    "scaler.fit(X_train)\n",
    "X_train_scaled = scaler.transform(X_train)"
   ]
  },
  {
   "cell_type": "code",
   "execution_count": 87,
   "metadata": {},
   "outputs": [],
   "source": [
    "scaler.fit(X_test)\n",
    "X_test_scaled = scaler.transform(X_test)"
   ]
  },
  {
   "cell_type": "code",
   "execution_count": 88,
   "metadata": {},
   "outputs": [],
   "source": [
    "mlp_model = MLPRegressor().fit(X_train_scaled, y_train)"
   ]
  },
  {
   "cell_type": "code",
   "execution_count": 89,
   "metadata": {},
   "outputs": [
    {
     "data": {
      "text/plain": [
       "498.32652306923075"
      ]
     },
     "execution_count": 89,
     "metadata": {},
     "output_type": "execute_result"
    }
   ],
   "source": [
    "y_pred = mlp_model.predict(X_test_scaled)\n",
    "np.sqrt(mean_squared_error(y_test, y_pred))"
   ]
  },
  {
   "cell_type": "markdown",
   "metadata": {},
   "source": [
    "# **Yapay Sinir Ağları Model Tuning**"
   ]
  },
  {
   "cell_type": "code",
   "execution_count": 90,
   "metadata": {},
   "outputs": [],
   "source": [
    "mlp_params = {\"alpha\": [0.1, 0.01, 0.02, 0.001, 0.0001], \n",
    "             \"hidden_layer_sizes\": [(10,20), (5,5), (100,100), (1000,100,10)]}"
   ]
  },
  {
   "cell_type": "code",
   "execution_count": 91,
   "metadata": {},
   "outputs": [
    {
     "name": "stdout",
     "output_type": "stream",
     "text": [
      "Fitting 10 folds for each of 20 candidates, totalling 200 fits\n"
     ]
    },
    {
     "name": "stderr",
     "output_type": "stream",
     "text": [
      "[Parallel(n_jobs=-1)]: Using backend LokyBackend with 4 concurrent workers.\n",
      "[Parallel(n_jobs=-1)]: Done  33 tasks      | elapsed:   11.1s\n",
      "[Parallel(n_jobs=-1)]: Done 154 tasks      | elapsed:  1.1min\n",
      "[Parallel(n_jobs=-1)]: Done 200 out of 200 | elapsed:  1.6min finished\n"
     ]
    }
   ],
   "source": [
    "mlp_cv_model = GridSearchCV(mlp_model, mlp_params, cv = 10, verbose = 2, n_jobs = -1).fit(X_train_scaled, y_train)"
   ]
  },
  {
   "cell_type": "code",
   "execution_count": 100,
   "metadata": {},
   "outputs": [
    {
     "data": {
      "text/plain": [
       "{'alpha': 0.01, 'hidden_layer_sizes': (1000, 100, 10)}"
      ]
     },
     "execution_count": 100,
     "metadata": {},
     "output_type": "execute_result"
    }
   ],
   "source": [
    "mlp_cv_model.best_params_"
   ]
  },
  {
   "cell_type": "code",
   "execution_count": 101,
   "metadata": {},
   "outputs": [],
   "source": [
    "mlp_tuned = MLPRegressor(**mlp_cv_model.best_params_).fit(X_train_scaled, y_train)"
   ]
  },
  {
   "cell_type": "code",
   "execution_count": 102,
   "metadata": {},
   "outputs": [
    {
     "data": {
      "text/plain": [
       "323.1188862517905"
      ]
     },
     "execution_count": 102,
     "metadata": {},
     "output_type": "execute_result"
    }
   ],
   "source": [
    "y_pred = mlp_tuned.predict(X_test_scaled)\n",
    "np.sqrt(mean_squared_error(y_test, y_pred))"
   ]
  },
  {
   "cell_type": "code",
   "execution_count": 103,
   "metadata": {},
   "outputs": [],
   "source": [
    "# **CART**"
   ]
  },
  {
   "cell_type": "code",
   "execution_count": 104,
   "metadata": {},
   "outputs": [
    {
     "data": {
      "text/plain": [
       "DecisionTreeRegressor(ccp_alpha=0.0, criterion='mse', max_depth=None,\n",
       "                      max_features=None, max_leaf_nodes=None,\n",
       "                      min_impurity_decrease=0.0, min_impurity_split=None,\n",
       "                      min_samples_leaf=1, min_samples_split=2,\n",
       "                      min_weight_fraction_leaf=0.0, presort='deprecated',\n",
       "                      random_state=52, splitter='best')"
      ]
     },
     "execution_count": 104,
     "metadata": {},
     "output_type": "execute_result"
    }
   ],
   "source": [
    "cart_model = DecisionTreeRegressor(random_state = 52)\n",
    "cart_model.fit(X_train, y_train)"
   ]
  },
  {
   "cell_type": "code",
   "execution_count": 105,
   "metadata": {},
   "outputs": [
    {
     "data": {
      "text/plain": [
       "350.3406931000228"
      ]
     },
     "execution_count": 105,
     "metadata": {},
     "output_type": "execute_result"
    }
   ],
   "source": [
    "y_pred = cart_model.predict(X_test)\n",
    "np.sqrt(mean_squared_error(y_test, y_pred))"
   ]
  },
  {
   "cell_type": "code",
   "execution_count": 98,
   "metadata": {},
   "outputs": [],
   "source": [
    "# **Cart Model Tuning**"
   ]
  },
  {
   "cell_type": "code",
   "execution_count": 99,
   "metadata": {},
   "outputs": [],
   "source": [
    "cart_params = {\"max_depth\": [2,3,4,5,10,20, 100, 1000],\n",
    "              \"min_samples_split\": [2,10,5,30,50,10]}"
   ]
  },
  {
   "cell_type": "code",
   "execution_count": 106,
   "metadata": {},
   "outputs": [],
   "source": [
    "cart_cv_model = GridSearchCV(cart_model, cart_params, cv = 10).fit(X_train, y_train)"
   ]
  },
  {
   "cell_type": "code",
   "execution_count": 107,
   "metadata": {},
   "outputs": [
    {
     "data": {
      "text/plain": [
       "{'max_depth': 4, 'min_samples_split': 50}"
      ]
     },
     "execution_count": 107,
     "metadata": {},
     "output_type": "execute_result"
    }
   ],
   "source": [
    "cart_cv_model.best_params_"
   ]
  },
  {
   "cell_type": "code",
   "execution_count": 108,
   "metadata": {},
   "outputs": [],
   "source": [
    "cart_tuned = DecisionTreeRegressor(**cart_cv_model.best_params_).fit(X_train, y_train)"
   ]
  },
  {
   "cell_type": "code",
   "execution_count": 109,
   "metadata": {},
   "outputs": [
    {
     "data": {
      "text/plain": [
       "289.6804906925757"
      ]
     },
     "execution_count": 109,
     "metadata": {},
     "output_type": "execute_result"
    }
   ],
   "source": [
    "y_pred = cart_tuned.predict(X_test)\n",
    "np.sqrt(mean_squared_error(y_test, y_pred))"
   ]
  },
  {
   "cell_type": "markdown",
   "metadata": {},
   "source": [
    "# **RANDOM FORESTS**"
   ]
  },
  {
   "cell_type": "code",
   "execution_count": 110,
   "metadata": {},
   "outputs": [],
   "source": [
    "rf_model = RandomForestRegressor(random_state = 42).fit(X_train, y_train)"
   ]
  },
  {
   "cell_type": "code",
   "execution_count": 111,
   "metadata": {},
   "outputs": [
    {
     "data": {
      "text/plain": [
       "248.04653467774924"
      ]
     },
     "execution_count": 111,
     "metadata": {},
     "output_type": "execute_result"
    }
   ],
   "source": [
    "y_pred = rf_model.predict(X_test)\n",
    "np.sqrt(mean_squared_error(y_test, y_pred))"
   ]
  },
  {
   "cell_type": "markdown",
   "metadata": {},
   "source": [
    "# **RF MODEL TUNING**"
   ]
  },
  {
   "cell_type": "code",
   "execution_count": 112,
   "metadata": {},
   "outputs": [],
   "source": [
    "rf_params = {\"max_depth\": [5,8,10,None],\n",
    "            \"max_features\": [2,5,10,15,17],\n",
    "            \"n_estimators\": [100,200, 500, 1000],\n",
    "            \"min_samples_split\": [2,5,10,20,30]}"
   ]
  },
  {
   "cell_type": "code",
   "execution_count": 113,
   "metadata": {},
   "outputs": [
    {
     "name": "stdout",
     "output_type": "stream",
     "text": [
      "Fitting 10 folds for each of 400 candidates, totalling 4000 fits\n"
     ]
    },
    {
     "name": "stderr",
     "output_type": "stream",
     "text": [
      "[Parallel(n_jobs=-1)]: Using backend LokyBackend with 4 concurrent workers.\n",
      "[Parallel(n_jobs=-1)]: Done  33 tasks      | elapsed:   12.3s\n",
      "[Parallel(n_jobs=-1)]: Done 154 tasks      | elapsed:   52.9s\n",
      "[Parallel(n_jobs=-1)]: Done 357 tasks      | elapsed:  2.2min\n",
      "[Parallel(n_jobs=-1)]: Done 640 tasks      | elapsed:  4.0min\n",
      "[Parallel(n_jobs=-1)]: Done 1005 tasks      | elapsed:  6.7min\n",
      "[Parallel(n_jobs=-1)]: Done 1450 tasks      | elapsed:  9.5min\n",
      "[Parallel(n_jobs=-1)]: Done 1977 tasks      | elapsed: 12.6min\n",
      "[Parallel(n_jobs=-1)]: Done 2584 tasks      | elapsed: 15.9min\n",
      "[Parallel(n_jobs=-1)]: Done 3273 tasks      | elapsed: 20.0min\n",
      "[Parallel(n_jobs=-1)]: Done 4000 out of 4000 | elapsed: 24.4min finished\n"
     ]
    }
   ],
   "source": [
    "rf_cv_model = GridSearchCV(rf_model, rf_params, cv = 10, n_jobs = -1, verbose = 2).fit(X_train, y_train)"
   ]
  },
  {
   "cell_type": "code",
   "execution_count": 114,
   "metadata": {},
   "outputs": [],
   "source": [
    "rf_tuned = RandomForestRegressor(**rf_cv_model.best_params_).fit(X_train, y_train)"
   ]
  },
  {
   "cell_type": "code",
   "execution_count": 115,
   "metadata": {},
   "outputs": [
    {
     "data": {
      "text/plain": [
       "233.82140193077055"
      ]
     },
     "execution_count": 115,
     "metadata": {},
     "output_type": "execute_result"
    }
   ],
   "source": [
    "y_pred = rf_tuned.predict(X_test)\n",
    "np.sqrt(mean_squared_error(y_test, y_pred))"
   ]
  },
  {
   "cell_type": "code",
   "execution_count": 116,
   "metadata": {},
   "outputs": [
    {
     "data": {
      "text/plain": [
       "array([0.01529304, 0.02314031, 0.01012908, 0.01788339, 0.04379919,\n",
       "       0.02254218, 0.005497  , 0.06192775, 0.09007809, 0.08506294,\n",
       "       0.06776034, 0.14990149, 0.04640449, 0.01880373, 0.00662945,\n",
       "       0.00366841, 0.035928  , 0.01060229, 0.00665956, 0.00757234,\n",
       "       0.00770268, 0.00693961, 0.00509535, 0.00974424, 0.09248919,\n",
       "       0.00625121, 0.02184068, 0.04072684, 0.04954281, 0.00639218,\n",
       "       0.01097045, 0.00512566, 0.0011364 , 0.00184921, 0.00133075,\n",
       "       0.00110211, 0.00099149, 0.00015116, 0.00060265, 0.00056824,\n",
       "       0.00016402])"
      ]
     },
     "execution_count": 116,
     "metadata": {},
     "output_type": "execute_result"
    }
   ],
   "source": [
    "rf_tuned.feature_importances_"
   ]
  },
  {
   "cell_type": "code",
   "execution_count": 117,
   "metadata": {},
   "outputs": [
    {
     "data": {
      "image/png": "[encoded data removed]",
      "text/plain": [
       "<Figure size 432x288 with 1 Axes>"
      ]
     },
     "metadata": {
      "needs_background": "light"
     },
     "output_type": "display_data"
    }
   ],
   "source": [
    "Importance = pd.DataFrame({'Importance':rf_tuned.feature_importances_*100}, \n",
    "                          index = X_train.columns)\n",
    "\n",
    "\n",
    "Importance.sort_values(by = 'Importance', \n",
    "                       axis = 0, \n",
    "                       ascending = True).plot(kind = 'barh', \n",
    "                                              color = 'r', )\n",
    "\n",
    "plt.xlabel('Variable Importance')\n",
    "plt.gca().legend_ = None"
   ]
  },
  {
   "cell_type": "markdown",
   "metadata": {},
   "source": [
    "# **GradientBoosting**"
   ]
  },
  {
   "cell_type": "code",
   "execution_count": 120,
   "metadata": {},
   "outputs": [],
   "source": [
    "gbm_model = GradientBoostingRegressor().fit(X_train, y_train)"
   ]
  },
  {
   "cell_type": "code",
   "execution_count": 121,
   "metadata": {},
   "outputs": [
    {
     "data": {
      "text/plain": [
       "274.5295674879685"
      ]
     },
     "execution_count": 121,
     "metadata": {},
     "output_type": "execute_result"
    }
   ],
   "source": [
    "y_pred = gbm_model.predict(X_test)\n",
    "\n",
    "np.sqrt(mean_squared_error(y_test, y_pred))"
   ]
  },
  {
   "cell_type": "code",
   "execution_count": 122,
   "metadata": {},
   "outputs": [],
   "source": [
    "# **GB Model Tuning**"
   ]
  },
  {
   "cell_type": "code",
   "execution_count": 123,
   "metadata": {},
   "outputs": [],
   "source": [
    "gbm_params = {\"learning_rate\": [0.001,0.1,0.01],\n",
    "             \"max_depth\": [3,5,8,9,10],\n",
    "             \"n_estimators\": [200,500,1000],\n",
    "             \"subsample\": [1,0.4,0.5,0.7],\n",
    "             \"loss\": [\"ls\",\"lad\",\"quantile\"]}"
   ]
  },
  {
   "cell_type": "code",
   "execution_count": 124,
   "metadata": {},
   "outputs": [],
   "source": [
    "gbm_model = GradientBoostingRegressor().fit(X_train, y_train)"
   ]
  },
  {
   "cell_type": "code",
   "execution_count": 125,
   "metadata": {},
   "outputs": [
    {
     "name": "stdout",
     "output_type": "stream",
     "text": [
      "Fitting 10 folds for each of 540 candidates, totalling 5400 fits\n"
     ]
    },
    {
     "name": "stderr",
     "output_type": "stream",
     "text": [
      "[Parallel(n_jobs=-1)]: Using backend LokyBackend with 4 concurrent workers.\n",
      "[Parallel(n_jobs=-1)]: Done  33 tasks      | elapsed:    3.2s\n",
      "[Parallel(n_jobs=-1)]: Done 154 tasks      | elapsed:   35.9s\n",
      "[Parallel(n_jobs=-1)]: Done 357 tasks      | elapsed:  2.3min\n",
      "[Parallel(n_jobs=-1)]: Done 640 tasks      | elapsed:  4.7min\n",
      "[Parallel(n_jobs=-1)]: Done 1005 tasks      | elapsed:  9.1min\n",
      "[Parallel(n_jobs=-1)]: Done 1450 tasks      | elapsed: 15.0min\n",
      "[Parallel(n_jobs=-1)]: Done 1977 tasks      | elapsed: 20.1min\n",
      "[Parallel(n_jobs=-1)]: Done 2584 tasks      | elapsed: 24.3min\n",
      "[Parallel(n_jobs=-1)]: Done 3273 tasks      | elapsed: 35.5min\n",
      "[Parallel(n_jobs=-1)]: Done 4042 tasks      | elapsed: 44.7min\n",
      "[Parallel(n_jobs=-1)]: Done 4893 tasks      | elapsed: 56.9min\n",
      "[Parallel(n_jobs=-1)]: Done 5400 out of 5400 | elapsed: 67.4min finished\n"
     ]
    }
   ],
   "source": [
    "gbm_cv_model = GridSearchCV(gbm_model, \n",
    "                            gbm_params, \n",
    "                            cv = 10, \n",
    "                            n_jobs=-1, \n",
    "                            verbose = 2).fit(X, y)"
   ]
  },
  {
   "cell_type": "code",
   "execution_count": 126,
   "metadata": {},
   "outputs": [
    {
     "data": {
      "text/plain": [
       "{'learning_rate': 0.1,\n",
       " 'loss': 'lad',\n",
       " 'max_depth': 5,\n",
       " 'n_estimators': 1000,\n",
       " 'subsample': 0.7}"
      ]
     },
     "execution_count": 126,
     "metadata": {},
     "output_type": "execute_result"
    }
   ],
   "source": [
    "gbm_cv_model.best_params_"
   ]
  },
  {
   "cell_type": "code",
   "execution_count": 127,
   "metadata": {},
   "outputs": [],
   "source": [
    "gbm_tuned = GradientBoostingRegressor(**gbm_cv_model.best_params_).fit(X_train, y_train)"
   ]
  },
  {
   "cell_type": "code",
   "execution_count": 128,
   "metadata": {},
   "outputs": [
    {
     "data": {
      "text/plain": [
       "248.88874234225048"
      ]
     },
     "execution_count": 128,
     "metadata": {},
     "output_type": "execute_result"
    }
   ],
   "source": [
    "y_pred = gbm_tuned.predict(X_test)\n",
    "\n",
    "np.sqrt(mean_squared_error(y_test, y_pred))\n"
   ]
  },
  {
   "cell_type": "code",
   "execution_count": 129,
   "metadata": {},
   "outputs": [
    {
     "data": {
      "image/png": "[encoded data removed]",
      "text/plain": [
       "<Figure size 432x288 with 1 Axes>"
      ]
     },
     "metadata": {
      "needs_background": "light"
     },
     "output_type": "display_data"
    }
   ],
   "source": [
    "Importance = pd.DataFrame({'Importance':gbm_tuned.feature_importances_*100}, \n",
    "                          index = X_train.columns)\n",
    "\n",
    "\n",
    "Importance.sort_values(by = 'Importance', \n",
    "                       axis = 0, \n",
    "                       ascending = True).plot(kind = 'barh', \n",
    "                                              color = 'r', )\n",
    "\n",
    "plt.xlabel('Variable Importance')\n",
    "plt.gca().legend_ = None"
   ]
  },
  {
   "cell_type": "code",
   "execution_count": 130,
   "metadata": {},
   "outputs": [],
   "source": [
    "# **XGBOOST**"
   ]
  },
  {
   "cell_type": "code",
   "execution_count": 131,
   "metadata": {},
   "outputs": [],
   "source": [
    "X_train = X_train.loc[:,~X_train.columns.duplicated(keep=\"last\")]\n",
    "X_test = X_test.loc[:,~X_test.columns.duplicated(keep=\"last\")]"
   ]
  },
  {
   "cell_type": "code",
   "execution_count": 132,
   "metadata": {},
   "outputs": [
    {
     "data": {
      "text/plain": [
       "275.35228812790905"
      ]
     },
     "execution_count": 132,
     "metadata": {},
     "output_type": "execute_result"
    }
   ],
   "source": [
    "import xgboost\n",
    "from xgboost import XGBRegressor\n",
    "\n",
    "xgb = XGBRegressor().fit(X_train, y_train)\n",
    "y_pred = xgb.predict(X_test)\n",
    "np.sqrt(mean_squared_error(y_test, y_pred))"
   ]
  },
  {
   "cell_type": "code",
   "execution_count": 133,
   "metadata": {},
   "outputs": [],
   "source": [
    "# **XGBOOST Model Tuning**"
   ]
  },
  {
   "cell_type": "code",
   "execution_count": 134,
   "metadata": {},
   "outputs": [],
   "source": [
    "xgb_params = {\"learning_rate\": [0.1,0.01,0.5],\n",
    "             \"max_depth\": [2,3,4,5,8],\n",
    "             \"n_estimators\": [200,500,1000],\n",
    "             \"colsample_bytree\": [0.4,0.7,1]}\n"
   ]
  },
  {
   "cell_type": "code",
   "execution_count": 135,
   "metadata": {},
   "outputs": [
    {
     "name": "stdout",
     "output_type": "stream",
     "text": [
      "Fitting 10 folds for each of 135 candidates, totalling 1350 fits\n"
     ]
    },
    {
     "name": "stderr",
     "output_type": "stream",
     "text": [
      "[Parallel(n_jobs=-1)]: Using backend LokyBackend with 4 concurrent workers.\n",
      "[Parallel(n_jobs=-1)]: Done  33 tasks      | elapsed:   45.0s\n",
      "[Parallel(n_jobs=-1)]: Done 154 tasks      | elapsed:   58.2s\n",
      "[Parallel(n_jobs=-1)]: Done 357 tasks      | elapsed:  1.4min\n",
      "[Parallel(n_jobs=-1)]: Done 640 tasks      | elapsed:  2.1min\n",
      "[Parallel(n_jobs=-1)]: Done 1005 tasks      | elapsed:  3.2min\n",
      "[Parallel(n_jobs=-1)]: Done 1350 out of 1350 | elapsed:  4.6min finished\n"
     ]
    }
   ],
   "source": [
    "xgb_cv_model  = GridSearchCV(xgb,xgb_params, cv = 10, n_jobs = -1, verbose = 2).fit(X_train, y_train)"
   ]
  },
  {
   "cell_type": "code",
   "execution_count": 136,
   "metadata": {},
   "outputs": [
    {
     "data": {
      "text/plain": [
       "{'colsample_bytree': 0.4,\n",
       " 'learning_rate': 0.01,\n",
       " 'max_depth': 8,\n",
       " 'n_estimators': 500}"
      ]
     },
     "execution_count": 136,
     "metadata": {},
     "output_type": "execute_result"
    }
   ],
   "source": [
    "xgb_cv_model.best_params_"
   ]
  },
  {
   "cell_type": "code",
   "execution_count": 137,
   "metadata": {},
   "outputs": [],
   "source": [
    "xgb_tuned = XGBRegressor(**xgb_cv_model.best_params_).fit(X_train, y_train)"
   ]
  },
  {
   "cell_type": "code",
   "execution_count": 138,
   "metadata": {},
   "outputs": [
    {
     "data": {
      "text/plain": [
       "249.4692827113438"
      ]
     },
     "execution_count": 138,
     "metadata": {},
     "output_type": "execute_result"
    }
   ],
   "source": [
    "y_pred = xgb_tuned.predict(X_test)\n",
    "\n",
    "np.sqrt(mean_squared_error(y_test, y_pred))"
   ]
  },
  {
   "cell_type": "code",
   "execution_count": 139,
   "metadata": {},
   "outputs": [
    {
     "data": {
      "image/png": "[encoded data removed]",
      "text/plain": [
       "<Figure size 432x288 with 1 Axes>"
      ]
     },
     "metadata": {
      "needs_background": "light"
     },
     "output_type": "display_data"
    }
   ],
   "source": [
    "Importance = pd.DataFrame({'Importance':xgb_tuned.feature_importances_*100}, \n",
    "                          index = X_train.columns)\n",
    "\n",
    "\n",
    "Importance.sort_values(by = 'Importance', \n",
    "                       axis = 0, \n",
    "                       ascending = True).plot(kind = 'barh', \n",
    "                                              color = 'r', )\n",
    "\n",
    "plt.xlabel('Variable Importance')\n",
    "plt.gca().legend_ = None"
   ]
  },
  {
   "cell_type": "code",
   "execution_count": 140,
   "metadata": {},
   "outputs": [],
   "source": [
    "# **LightGBM**"
   ]
  },
  {
   "cell_type": "code",
   "execution_count": 141,
   "metadata": {},
   "outputs": [
    {
     "data": {
      "text/plain": [
       "253.23431931207247"
      ]
     },
     "execution_count": 141,
     "metadata": {},
     "output_type": "execute_result"
    }
   ],
   "source": [
    "from lightgbm import LGBMRegressor\n",
    "\n",
    "lgb_model = LGBMRegressor().fit(X_train, y_train)\n",
    "\n",
    "y_pred = lgb_model.predict(X_test)\n",
    "np.sqrt(mean_squared_error(y_test, y_pred))"
   ]
  },
  {
   "cell_type": "code",
   "execution_count": 142,
   "metadata": {},
   "outputs": [],
   "source": [
    "lgb_model = LGBMRegressor()"
   ]
  },
  {
   "cell_type": "code",
   "execution_count": 143,
   "metadata": {},
   "outputs": [],
   "source": [
    "lgbm_params = {\"learning_rate\": [0.01,0.001, 0.1, 0.5],\n",
    "              \"n_estimators\": [200,500,1000],\n",
    "              \"max_depth\": [2,4,6,7,10],\n",
    "              \"colsample_bytree\": [1,0.8,0.5,0.4]}\n"
   ]
  },
  {
   "cell_type": "code",
   "execution_count": 144,
   "metadata": {},
   "outputs": [
    {
     "name": "stdout",
     "output_type": "stream",
     "text": [
      "Fitting 10 folds for each of 240 candidates, totalling 2400 fits\n"
     ]
    },
    {
     "name": "stderr",
     "output_type": "stream",
     "text": [
      "[Parallel(n_jobs=-1)]: Using backend LokyBackend with 4 concurrent workers.\n",
      "[Parallel(n_jobs=-1)]: Done  33 tasks      | elapsed:    5.3s\n",
      "[Parallel(n_jobs=-1)]: Done 154 tasks      | elapsed:   15.8s\n",
      "[Parallel(n_jobs=-1)]: Done 357 tasks      | elapsed:   29.1s\n",
      "[Parallel(n_jobs=-1)]: Done 640 tasks      | elapsed:   49.9s\n",
      "[Parallel(n_jobs=-1)]: Done 1005 tasks      | elapsed:  1.2min\n",
      "[Parallel(n_jobs=-1)]: Done 1450 tasks      | elapsed:  1.7min\n",
      "[Parallel(n_jobs=-1)]: Done 1977 tasks      | elapsed:  2.1min\n",
      "[Parallel(n_jobs=-1)]: Done 2400 out of 2400 | elapsed:  2.5min finished\n"
     ]
    }
   ],
   "source": [
    "lgbm_cv_model = GridSearchCV(lgb_model, \n",
    "                             lgbm_params, \n",
    "                             cv = 10, \n",
    "                             n_jobs = -1, \n",
    "                             verbose =2).fit(X_train, y_train)\n"
   ]
  },
  {
   "cell_type": "code",
   "execution_count": 145,
   "metadata": {},
   "outputs": [
    {
     "data": {
      "text/plain": [
       "{'colsample_bytree': 0.5,\n",
       " 'learning_rate': 0.1,\n",
       " 'max_depth': 6,\n",
       " 'n_estimators': 200}"
      ]
     },
     "execution_count": 145,
     "metadata": {},
     "output_type": "execute_result"
    }
   ],
   "source": [
    "lgbm_cv_model.best_params_\n"
   ]
  },
  {
   "cell_type": "code",
   "execution_count": 146,
   "metadata": {},
   "outputs": [
    {
     "data": {
      "text/plain": [
       "256.60818082221755"
      ]
     },
     "execution_count": 146,
     "metadata": {},
     "output_type": "execute_result"
    }
   ],
   "source": [
    "lgbm_tuned = LGBMRegressor(**lgbm_cv_model.best_params_).fit(X_train, y_train)\n",
    "\n",
    "y_pred = lgbm_tuned.predict(X_test)\n",
    "\n",
    "np.sqrt(mean_squared_error(y_test, y_pred))"
   ]
  },
  {
   "cell_type": "code",
   "execution_count": 147,
   "metadata": {},
   "outputs": [
    {
     "data": {
      "image/png": "[encoded data removed]",
      "text/plain": [
       "<Figure size 432x288 with 1 Axes>"
      ]
     },
     "metadata": {
      "needs_background": "light"
     },
     "output_type": "display_data"
    }
   ],
   "source": [
    "Importance = pd.DataFrame({'Importance':lgbm_tuned.feature_importances_*100}, \n",
    "                          index = X_train.columns)\n",
    "\n",
    "\n",
    "Importance.sort_values(by = 'Importance', \n",
    "                       axis = 0, \n",
    "                       ascending = True).plot(kind = 'barh', \n",
    "                                              color = 'r', )\n",
    "\n",
    "plt.xlabel('Variable Importance')\n",
    "plt.gca().legend_ = None"
   ]
  },
  {
   "cell_type": "code",
   "execution_count": 148,
   "metadata": {},
   "outputs": [
    {
     "name": "stdout",
     "output_type": "stream",
     "text": [
      "Regression 285.64856792766017\n",
      "Ridge 275.55118495892776\n",
      "Lasso 268.83950520003566\n",
      "ElasticNet 270.3224129293707\n",
      "KNN 244.85166731996708\n",
      "CART 306.44703669376753\n",
      "RF 254.0474546104314\n",
      "SVR 318.44247371980873\n",
      "GBM 277.88110318052543\n",
      "XGBoost 275.35228812790905\n",
      "LightGBM 253.23431931207247\n",
      "CatBoost 238.33318281742274\n"
     ]
    }
   ],
   "source": [
    "X=df1.drop(\"Salary\", axis=1)\n",
    "X_train, X_test, y_train, y_test = train_test_split(X, y, \n",
    "                                                    test_size=0.20, \n",
    "                                                    random_state=46)\n",
    "\n",
    "\n",
    "models = []\n",
    "\n",
    "models.append(('Regression', LinearRegression()))\n",
    "models.append(('Ridge', Ridge()))\n",
    "models.append(('Lasso', Lasso()))\n",
    "models.append(('ElasticNet', ElasticNet()))\n",
    "models.append(('KNN', KNeighborsRegressor()))\n",
    "models.append(('CART', DecisionTreeRegressor()))\n",
    "models.append(('RF', RandomForestRegressor()))\n",
    "models.append(('SVR', SVR()))\n",
    "models.append(('GBM', GradientBoostingRegressor()))\n",
    "models.append((\"XGBoost\", XGBRegressor()))\n",
    "models.append((\"LightGBM\", LGBMRegressor()))\n",
    "models.append((\"CatBoost\", CatBoostRegressor(verbose = False)))\n",
    "\n",
    "\n",
    "for name, model in models:\n",
    "    model.fit(X_train,y_train)\n",
    "    y_pred=model.predict(X_test)\n",
    "    rmse = np.sqrt(mean_squared_error(y_test, y_pred))\n",
    "    print(name,rmse)"
   ]
  },
  {
   "cell_type": "markdown",
   "metadata": {},
   "source": [
    "En iyi sonucu catboost ile elde ettim "
   ]
  },
  {
   "cell_type": "code",
   "execution_count": null,
   "metadata": {},
   "outputs": [],
   "source": []
  }
 ],
 "metadata": {
  "kernelspec": {
   "display_name": "Python 3",
   "language": "python",
   "name": "python3"
  },
  "language_info": {
   "codemirror_mode": {
    "name": "ipython",
    "version": 3
   },
   "file_extension": ".py",
   "mimetype": "text/x-python",
   "name": "python",
   "nbconvert_exporter": "python",
   "pygments_lexer": "ipython3",
   "version": "3.7.6"
  }
 },
 "nbformat": 4,
 "nbformat_minor": 4
}
